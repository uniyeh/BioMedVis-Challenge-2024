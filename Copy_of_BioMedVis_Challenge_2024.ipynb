{
  "cells": [
    {
      "cell_type": "markdown",
      "metadata": {
        "id": "view-in-github",
        "colab_type": "text"
      },
      "source": [
        "<a href=\"https://colab.research.google.com/github/uniyeh/BioMedVis-Challenge-2024/blob/main/Copy_of_BioMedVis_Challenge_2024.ipynb\" target=\"_parent\"><img src=\"https://colab.research.google.com/assets/colab-badge.svg\" alt=\"Open In Colab\"/></a>"
      ]
    },
    {
      "cell_type": "markdown",
      "metadata": {
        "nbsphinx": "hidden",
        "id": "pSxVJX9dTuNG"
      },
      "source": [
        "# BioMedVis Challenge 2024"
      ]
    },
    {
      "cell_type": "markdown",
      "source": [
        "## Package Installation to Set Up the Environment:"
      ],
      "metadata": {
        "id": "pZ0NXwtIZGW2"
      }
    },
    {
      "cell_type": "code",
      "source": [
        "pip install vitessce anywidget uvicorn starlette ome-zarr ome_types"
      ],
      "metadata": {
        "id": "OQkfQkmEZIFf"
      },
      "execution_count": null,
      "outputs": []
    },
    {
      "cell_type": "markdown",
      "source": [
        "## Accessing the Data to create configurations"
      ],
      "metadata": {
        "id": "TlV6TGTmZMne"
      }
    },
    {
      "cell_type": "code",
      "source": [
        "import dask.array as da\n",
        "import zarr\n",
        "import requests\n",
        "import io\n",
        "from ome_zarr.io import parse_url\n",
        "import ome_types"
      ],
      "metadata": {
        "id": "pg5yHrbIarFw"
      },
      "execution_count": null,
      "outputs": []
    },
    {
      "cell_type": "code",
      "source": [
        "path = \"https://lsp-public-data.s3.amazonaws.com/yapp-2023-3d-melanoma/Dataset1-LSP13626-melanoma-in-situ/0\"\n",
        "root = parse_url(path, mode=\"w\")\n",
        "store = root.store\n",
        "daskArray = da.from_zarr(store, component=\"3\") # t=0, high-res\n",
        "daskArray"
      ],
      "metadata": {
        "id": "DEM2eXtOemAY"
      },
      "execution_count": null,
      "outputs": []
    },
    {
      "cell_type": "code",
      "source": [
        "import requests\n",
        "response = requests.get(\"https://lsp-public-data.s3.amazonaws.com/yapp-2023-3d-melanoma/Dataset1-LSP13626-melanoma-in-situ/OME/METADATA.ome.xml\")\n",
        "data = response.text\n",
        "ome_xml = ome_types.from_xml(response.text.replace(\"Â\",\"\"))\n",
        "channel_names = [c.name for c in ome_xml.images[0].pixels.channels]\n",
        "# Listing all the Channels in the Volume\n",
        "channel_names"
      ],
      "metadata": {
        "id": "Pr9vDrr3mTqx"
      },
      "execution_count": null,
      "outputs": []
    },
    {
      "cell_type": "code",
      "source": [
        "# Reading the Physical Size of the Sample\n",
        "ome_xml.images[0].pixels.physical_size_x, ome_xml.images[0].pixels.physical_size_y, ome_xml.images[0].pixels.physical_size_z"
      ],
      "metadata": {
        "id": "W0qZSMuopjZ7"
      },
      "execution_count": null,
      "outputs": []
    },
    {
      "cell_type": "code",
      "source": [
        "# Getting the data from Channel CD31:\n",
        "data = daskArray[0,19,:,:,:].compute()\n",
        "data.shape"
      ],
      "metadata": {
        "id": "zfBBFGDGo2jY"
      },
      "execution_count": null,
      "outputs": []
    },
    {
      "cell_type": "markdown",
      "metadata": {
        "id": "aTSeMlreTuNH"
      },
      "source": [
        "# Visualization of volumetric imaging data\n"
      ]
    },
    {
      "cell_type": "markdown",
      "source": [
        "Importing the necessary libraries:"
      ],
      "metadata": {
        "id": "Y1CupRheCGiD"
      }
    },
    {
      "cell_type": "code",
      "execution_count": null,
      "metadata": {
        "id": "ORptAfVHTuNI"
      },
      "outputs": [],
      "source": [
        "from vitessce import (\n",
        "    VitessceConfig,\n",
        "    CoordinationLevel as CL,\n",
        "    get_initial_coordination_scope_prefix,\n",
        ")\n",
        "from os.path import join\n",
        "import ipywidgets"
      ]
    },
    {
      "cell_type": "markdown",
      "metadata": {
        "id": "lc0hKIOeTuNJ"
      },
      "source": [
        "## Getting a first view of the Data:"
      ]
    },
    {
      "cell_type": "code",
      "source": [
        "vc = VitessceConfig(schema_version=\"1.0.16\", name=\"BioMedVis Challenge\")\n",
        "dataset = vc.add_dataset(name=\"Blood Vessel\", uid=\"bv\").add_file(\n",
        "    url=\"https://lsp-public-data.s3.amazonaws.com/yapp-2023-3d-melanoma/Dataset1-LSP13626-melanoma-in-situ/0\",\n",
        "    file_type=\"image.ome-zarr\"\n",
        ")\n",
        "\n",
        "spatial = vc.add_view(\"spatialBeta\", dataset=dataset)\n",
        "lc = vc.add_view(\"layerControllerBeta\", dataset=dataset)\n",
        "\n",
        "#Spatial Target X,Y,Z are used for translating the viewpoint to a certain point in the volume\n",
        "#These coordiantes are given in the best resolution level\n",
        "vc.link_views_by_dict([spatial, lc], {\n",
        "    \"spatialTargetZ\": 0,\n",
        "    \"spatialTargetT\": 0,\n",
        "    \"spatialZoom\": -3.54,\n",
        "    \"spatialTargetX\": 5230,\n",
        "    \"spatialTargetY\": 2880,\n",
        "    \"spatialTargetZ\": 0,\n",
        "    \"spatialRenderingMode\": \"3D\",\n",
        "    \"imageLayer\": CL([\n",
        "      {\n",
        "        \"spatialTargetResolution\": 3,\n",
        "        \"spatialLayerOpacity\": 1.0,\n",
        "        \"spatialLayerVisible\": True,\n",
        "        \"photometricInterpretation\": \"BlackIsZero\",\n",
        "        \"imageChannel\": CL([\n",
        "          {\n",
        "            \"spatialTargetC\": 0,\n",
        "            \"spatialChannelColor\": [255, 255,255],\n",
        "            \"spatialChannelVisible\": True,\n",
        "            \"spatialChannelOpacity\": 1.0,\n",
        "          }])\n",
        "      }\n",
        "    ])\n",
        "}, meta=True, scope_prefix=get_initial_coordination_scope_prefix(\"bv\", \"image\"))\n",
        "\n",
        "vc.layout(spatial | lc);\n",
        "vw = vc.widget(js_package_version=\"3.4.5\", remount_on_uid_change=False)\n",
        "vw"
      ],
      "metadata": {
        "id": "YXm1eQVNAuo0"
      },
      "execution_count": null,
      "outputs": []
    },
    {
      "cell_type": "markdown",
      "source": [
        "# Visualizing Regions of Interest (ROI)"
      ],
      "metadata": {
        "id": "GxUTC6DnCA9A"
      }
    },
    {
      "cell_type": "markdown",
      "source": [
        "Based on the prior analysis we can define a viewpoint showing an area of interest based on prior analysis in: https://doi.org/10.1101/2023.11.10.566670"
      ],
      "metadata": {
        "id": "0qifNu8JAyjE"
      }
    },
    {
      "cell_type": "code",
      "execution_count": null,
      "metadata": {
        "id": "66g2o2I2TuNJ"
      },
      "outputs": [],
      "source": [
        "vc = VitessceConfig(schema_version=\"1.0.16\", name=\"BioMedVis Challenge\")\n",
        "dataset = vc.add_dataset(name=\"Blood Vessel\", uid=\"bv\").add_file(\n",
        "    url=\"https://lsp-public-data.s3.amazonaws.com/yapp-2023-3d-melanoma/Dataset1-LSP13626-melanoma-in-situ/0\",\n",
        "    file_type=\"image.ome-zarr\"\n",
        ")\n",
        "\n",
        "spatial = vc.add_view(\"spatialBeta\", dataset=dataset)\n",
        "lc = vc.add_view(\"layerControllerBeta\", dataset=dataset)\n",
        "\n",
        "#Spatial Target X,Y,Z are used for translating the viewpoint to a certain point in the volume\n",
        "#These coordiantes are given in the best resolution level\n",
        "vc.link_views_by_dict([spatial, lc], {\n",
        "    \"spatialTargetZ\": 0,\n",
        "    \"spatialTargetT\": 0,\n",
        "    \"spatialZoom\": -1.1,\n",
        "    \"spatialTargetX\": 2914,\n",
        "    \"spatialTargetY\": 1267,\n",
        "    \"spatialTargetZ\": 0,\n",
        "    \"spatialRenderingMode\": \"3D\",\n",
        "    \"imageLayer\": CL([\n",
        "      {\n",
        "        \"spatialTargetResolution\": 3,\n",
        "        \"spatialLayerOpacity\": 1.0,\n",
        "        \"spatialLayerVisible\": True,\n",
        "        \"photometricInterpretation\": \"BlackIsZero\",\n",
        "        \"imageChannel\": CL([\n",
        "          {\n",
        "            \"spatialTargetC\": 9,\n",
        "            \"spatialChannelColor\": [255, 125, 0],\n",
        "            \"spatialChannelVisible\": True,\n",
        "            \"spatialChannelOpacity\": 1.0,\n",
        "            \"spatialChannelWindow\": [0,9486]\n",
        "          },\n",
        "          {\n",
        "            \"spatialTargetC\": 19,\n",
        "            \"spatialChannelColor\": [0, 255, 0],\n",
        "            \"spatialChannelVisible\": True,\n",
        "            \"spatialChannelOpacity\": 1.0,\n",
        "            \"spatialChannelWindow\": [666,21313]\n",
        "          },\n",
        "          {\n",
        "            \"spatialTargetC\": 69,\n",
        "            \"spatialChannelColor\": [255, 255, 0],\n",
        "            \"spatialChannelVisible\": True,\n",
        "            \"spatialChannelOpacity\": 1.0,\n",
        "            \"spatialChannelWindow\": [6,34]\n",
        "          },\n",
        "          {\n",
        "            \"spatialTargetC\": 21,\n",
        "            \"spatialChannelColor\": [255, 0, 0],\n",
        "            \"spatialChannelVisible\": True,\n",
        "            \"spatialChannelOpacity\": 1.0,\n",
        "            \"spatialChannelWindow\": [1638,36287]\n",
        "          },\n",
        "        ]),\n",
        "      }\n",
        "    ])\n",
        "}, meta=True, scope_prefix=get_initial_coordination_scope_prefix(\"bv\", \"image\"))\n",
        "\n",
        "vc.layout(spatial | lc);\n",
        "\n",
        "vw = vc.widget(js_package_version=\"3.4.5\", remount_on_uid_change=False)\n",
        "vw"
      ]
    },
    {
      "cell_type": "code",
      "source": [
        "vc = VitessceConfig(schema_version=\"1.0.16\", name=\"BioMedVis Challenge\")\n",
        "dataset = vc.add_dataset(name=\"Blood Vessel\", uid=\"bv\").add_file(\n",
        "    url=\"https://lsp-public-data.s3.amazonaws.com/yapp-2023-3d-melanoma/Dataset1-LSP13626-melanoma-in-situ/0\",\n",
        "    file_type=\"image.ome-zarr\"\n",
        ")\n",
        "\n",
        "spatial = vc.add_view(\"spatialBeta\", dataset=dataset)\n",
        "lc = vc.add_view(\"layerControllerBeta\", dataset=dataset)\n",
        "\n",
        "#Spatial Target X,Y,Z are used for translating the viewpoint to a certain point in the volume\n",
        "#These coordiantes are given in the best resolution level\n",
        "vc.link_views_by_dict([spatial, lc], {\n",
        "    \"spatialTargetZ\": 0,\n",
        "    \"spatialTargetT\": 0,\n",
        "    \"spatialZoom\":  -1.91661,\n",
        "    \"spatialTargetX\": 5254,\n",
        "    \"spatialTargetY\": 2834,\n",
        "    \"spatialTargetZ\": 0,\n",
        "    \"spatialRenderingMode\": \"3D\",\n",
        "    \"imageLayer\": CL([\n",
        "      {\n",
        "        \"spatialTargetResolution\": 3,\n",
        "        \"spatialLayerOpacity\": 1.0,\n",
        "        \"spatialLayerVisible\": True,\n",
        "        \"photometricInterpretation\": \"BlackIsZero\",\n",
        "        \"imageChannel\": CL([\n",
        "          {\n",
        "            \"spatialTargetC\": 9,\n",
        "            \"spatialChannelColor\": [255, 125,0],\n",
        "            \"spatialChannelVisible\": True,\n",
        "            \"spatialChannelOpacity\": 1.0,\n",
        "            \"spatialChannelWindow\": [0,9486]\n",
        "          },\n",
        "          {\n",
        "            \"spatialTargetC\": 19,\n",
        "            \"spatialChannelColor\": [0, 0,255],\n",
        "            \"spatialChannelVisible\": True,\n",
        "            \"spatialChannelOpacity\": 1.0,\n",
        "            \"spatialChannelWindow\": [888,6882]\n",
        "          },\n",
        "          {\n",
        "            \"spatialTargetC\": 69,\n",
        "            \"spatialChannelColor\": [255, 255, 0],\n",
        "            \"spatialChannelVisible\": True,\n",
        "            \"spatialChannelOpacity\": 1.0,\n",
        "            \"spatialChannelWindow\": [6,34]\n",
        "          },\n",
        "          {\n",
        "            \"spatialTargetC\": 21,\n",
        "            \"spatialChannelColor\": [255, 0,0],\n",
        "            \"spatialChannelVisible\": True,\n",
        "            \"spatialChannelOpacity\": 1.0,\n",
        "            \"spatialChannelWindow\": [0,6552]\n",
        "          },\n",
        "          {\n",
        "            \"spatialTargetC\": 29,\n",
        "            \"spatialChannelColor\": [255,0,255],\n",
        "            \"spatialChannelVisible\": True,\n",
        "            \"spatialChannelOpacity\": 1.0,\n",
        "            \"spatialChannelWindow\": [475,2983]\n",
        "          },\n",
        "          {\n",
        "            \"spatialTargetC\": 3,\n",
        "            \"spatialChannelColor\": [0, 255,0],\n",
        "            \"spatialChannelVisible\": True,\n",
        "            \"spatialChannelOpacity\": 1.0,\n",
        "            \"spatialChannelWindow\": [1287,14825]\n",
        "          },\n",
        "        ]),\n",
        "      }\n",
        "    ])\n",
        "}, meta=True, scope_prefix=get_initial_coordination_scope_prefix(\"bv\", \"image\"))\n",
        "\n",
        "vc.layout(spatial | lc);\n",
        "vw = vc.widget(js_package_version=\"3.4.5\", remount_on_uid_change=False)\n",
        "vw"
      ],
      "metadata": {
        "id": "tDTgkRMFGjca"
      },
      "execution_count": null,
      "outputs": []
    },
    {
      "cell_type": "markdown",
      "source": [
        "# Reading Visualization Parameters:"
      ],
      "metadata": {
        "id": "XPQt_AS1BEzk"
      }
    },
    {
      "cell_type": "code",
      "source": [
        "vw.config[\"coordinationSpace\"][\"spatialTargetX\"]"
      ],
      "metadata": {
        "id": "8NsrGQ49Z72Y"
      },
      "execution_count": null,
      "outputs": []
    },
    {
      "cell_type": "code",
      "source": [
        "vw.config[\"coordinationSpace\"][\"spatialTargetY\"]"
      ],
      "metadata": {
        "id": "RvPDrfneaBUj"
      },
      "execution_count": null,
      "outputs": []
    },
    {
      "cell_type": "code",
      "source": [
        "vw.config[\"coordinationSpace\"][\"spatialTargetZ\"]"
      ],
      "metadata": {
        "id": "D9_nORLcaCs1"
      },
      "execution_count": null,
      "outputs": []
    },
    {
      "cell_type": "code",
      "source": [
        "vw.config[\"coordinationSpace\"][\"spatialZoom\"]"
      ],
      "metadata": {
        "id": "wZ5JRkVhaDgG"
      },
      "execution_count": null,
      "outputs": []
    },
    {
      "cell_type": "code",
      "source": [],
      "metadata": {
        "id": "Pdx7LJwdB1Jp"
      },
      "execution_count": null,
      "outputs": []
    }
  ],
  "metadata": {
    "kernelspec": {
      "display_name": "Python 3 (ipykernel)",
      "language": "python",
      "name": "python3"
    },
    "language_info": {
      "codemirror_mode": {
        "name": "ipython",
        "version": 3
      },
      "file_extension": ".py",
      "mimetype": "text/x-python",
      "name": "python",
      "nbconvert_exporter": "python",
      "pygments_lexer": "ipython3",
      "version": "3.11.7"
    },
    "colab": {
      "provenance": [],
      "collapsed_sections": [
        "pZ0NXwtIZGW2",
        "TlV6TGTmZMne"
      ],
      "include_colab_link": true
    }
  },
  "nbformat": 4,
  "nbformat_minor": 0
}