{
  "cells": [
    {
      "cell_type": "markdown",
      "metadata": {
        "id": "view-in-github",
        "colab_type": "text"
      },
      "source": [
        "<a href=\"https://colab.research.google.com/github/uniyeh/BioMedVis-Challenge-2024/blob/main/BioMedVis_Challenge_2024.ipynb\" target=\"_parent\"><img src=\"https://colab.research.google.com/assets/colab-badge.svg\" alt=\"Open In Colab\"/></a>"
      ]
    },
    {
      "cell_type": "markdown",
      "metadata": {
        "nbsphinx": "hidden",
        "id": "pSxVJX9dTuNG"
      },
      "source": [
        "# BioMedVis Challenge 2024"
      ]
    },
    {
      "cell_type": "markdown",
      "source": [
        "## Package Installation to Set Up the Environment:"
      ],
      "metadata": {
        "id": "pZ0NXwtIZGW2"
      }
    },
    {
      "cell_type": "code",
      "source": [
        "pip install vitessce anywidget uvicorn starlette ome-zarr ome_types"
      ],
      "metadata": {
        "id": "OQkfQkmEZIFf",
        "colab": {
          "base_uri": "https://localhost:8080/"
        },
        "outputId": "2e7162c8-456e-4a59-b277-81d8bf3199a7"
      },
      "execution_count": null,
      "outputs": [
        {
          "output_type": "stream",
          "name": "stdout",
          "text": [
            "Collecting vitessce\n",
            "  Downloading vitessce-3.4.0-py2.py3-none-any.whl.metadata (10 kB)\n",
            "Collecting anywidget\n",
            "  Downloading anywidget-0.9.13-py3-none-any.whl.metadata (7.2 kB)\n",
            "Collecting uvicorn\n",
            "  Downloading uvicorn-0.31.0-py3-none-any.whl.metadata (6.6 kB)\n",
            "Collecting starlette\n",
            "  Downloading starlette-0.39.2-py3-none-any.whl.metadata (6.0 kB)\n",
            "Collecting ome-zarr\n",
            "  Downloading ome_zarr-0.9.0-py3-none-any.whl.metadata (3.4 kB)\n",
            "Collecting ome_types\n",
            "  Downloading ome_types-0.5.2-py3-none-any.whl.metadata (11 kB)\n",
            "Collecting zarr>=2.5.0 (from vitessce)\n",
            "  Downloading zarr-2.18.3-py3-none-any.whl.metadata (5.7 kB)\n",
            "Collecting numcodecs>=0.5.7 (from vitessce)\n",
            "  Downloading numcodecs-0.13.0-cp310-cp310-manylinux_2_17_x86_64.manylinux2014_x86_64.whl.metadata (2.9 kB)\n",
            "Requirement already satisfied: scipy>=1.2.1 in /usr/local/lib/python3.10/dist-packages (from vitessce) (1.13.1)\n",
            "Collecting negspy>=0.2.24 (from vitessce)\n",
            "  Downloading negspy-0.2.24.tar.gz (1.7 MB)\n",
            "\u001b[2K     \u001b[90m━━━━━━━━━━━━━━━━━━━━━━━━━━━━━━━━━━━━━━━━\u001b[0m \u001b[32m1.7/1.7 MB\u001b[0m \u001b[31m12.3 MB/s\u001b[0m eta \u001b[36m0:00:00\u001b[0m\n",
            "\u001b[?25h  Preparing metadata (setup.py) ... \u001b[?25l\u001b[?25hdone\n",
            "Requirement already satisfied: pandas>=1.1.2 in /usr/local/lib/python3.10/dist-packages (from vitessce) (2.2.2)\n",
            "Collecting black>=21.11b1 (from vitessce)\n",
            "  Downloading black-24.8.0-cp310-cp310-manylinux_2_17_x86_64.manylinux2014_x86_64.manylinux_2_28_x86_64.whl.metadata (78 kB)\n",
            "\u001b[2K     \u001b[90m━━━━━━━━━━━━━━━━━━━━━━━━━━━━━━━━━━━━━━━━\u001b[0m \u001b[32m78.2/78.2 kB\u001b[0m \u001b[31m6.6 MB/s\u001b[0m eta \u001b[36m0:00:00\u001b[0m\n",
            "\u001b[?25hRequirement already satisfied: numpy<2.0,>=1.21.2 in /usr/local/lib/python3.10/dist-packages (from vitessce) (1.26.4)\n",
            "Collecting anndata<0.11,>=0.7.8 (from vitessce)\n",
            "  Downloading anndata-0.10.9-py3-none-any.whl.metadata (6.9 kB)\n",
            "Collecting scanpy>=1.9.3 (from vitessce)\n",
            "  Downloading scanpy-1.10.3-py3-none-any.whl.metadata (9.4 kB)\n",
            "Collecting ome-zarr\n",
            "  Downloading ome_zarr-0.8.3-py3-none-any.whl.metadata (3.4 kB)\n",
            "Requirement already satisfied: tifffile>=2020.10.1 in /usr/local/lib/python3.10/dist-packages (from vitessce) (2024.9.20)\n",
            "Requirement already satisfied: jsonschema>=3.2 in /usr/local/lib/python3.10/dist-packages (from vitessce) (4.23.0)\n",
            "Requirement already satisfied: tqdm>=4.1.0 in /usr/local/lib/python3.10/dist-packages (from vitessce) (4.66.5)\n",
            "Requirement already satisfied: aiohttp<4 in /usr/local/lib/python3.10/dist-packages (from ome-zarr) (3.10.8)\n",
            "Requirement already satisfied: dask in /usr/local/lib/python3.10/dist-packages (from ome-zarr) (2024.8.0)\n",
            "Requirement already satisfied: distributed in /usr/local/lib/python3.10/dist-packages (from ome-zarr) (2024.8.0)\n",
            "Requirement already satisfied: fsspec!=2021.07.0,!=2023.09.0,>=0.8 in /usr/local/lib/python3.10/dist-packages (from fsspec[s3]!=2021.07.0,!=2023.09.0,>=0.8->ome-zarr) (2024.6.1)\n",
            "Requirement already satisfied: requests in /usr/local/lib/python3.10/dist-packages (from ome-zarr) (2.32.3)\n",
            "Requirement already satisfied: scikit-image in /usr/local/lib/python3.10/dist-packages (from ome-zarr) (0.24.0)\n",
            "Requirement already satisfied: toolz in /usr/local/lib/python3.10/dist-packages (from ome-zarr) (0.12.1)\n",
            "Requirement already satisfied: ipywidgets>=7.6.0 in /usr/local/lib/python3.10/dist-packages (from anywidget) (7.7.1)\n",
            "Collecting psygnal>=0.8.1 (from anywidget)\n",
            "  Downloading psygnal-0.11.1-cp310-cp310-manylinux_2_17_x86_64.manylinux2014_x86_64.whl.metadata (7.2 kB)\n",
            "Requirement already satisfied: typing-extensions>=4.2.0 in /usr/local/lib/python3.10/dist-packages (from anywidget) (4.12.2)\n",
            "Requirement already satisfied: click>=7.0 in /usr/local/lib/python3.10/dist-packages (from uvicorn) (8.1.7)\n",
            "Collecting h11>=0.8 (from uvicorn)\n",
            "  Downloading h11-0.14.0-py3-none-any.whl.metadata (8.2 kB)\n",
            "Requirement already satisfied: anyio<5,>=3.4.0 in /usr/local/lib/python3.10/dist-packages (from starlette) (3.7.1)\n",
            "Collecting pydantic-compat>=0.1.0 (from ome_types)\n",
            "  Downloading pydantic_compat-0.1.2-py3-none-any.whl.metadata (8.4 kB)\n",
            "Requirement already satisfied: pydantic>=1.10.0 in /usr/local/lib/python3.10/dist-packages (from ome_types) (2.9.2)\n",
            "Collecting xsdata<24.4,>=23.6 (from ome_types)\n",
            "  Downloading xsdata-24.3.1-py3-none-any.whl.metadata (6.3 kB)\n",
            "Requirement already satisfied: aiohappyeyeballs>=2.3.0 in /usr/local/lib/python3.10/dist-packages (from aiohttp<4->ome-zarr) (2.4.3)\n",
            "Requirement already satisfied: aiosignal>=1.1.2 in /usr/local/lib/python3.10/dist-packages (from aiohttp<4->ome-zarr) (1.3.1)\n",
            "Requirement already satisfied: attrs>=17.3.0 in /usr/local/lib/python3.10/dist-packages (from aiohttp<4->ome-zarr) (24.2.0)\n",
            "Requirement already satisfied: frozenlist>=1.1.1 in /usr/local/lib/python3.10/dist-packages (from aiohttp<4->ome-zarr) (1.4.1)\n",
            "Requirement already satisfied: multidict<7.0,>=4.5 in /usr/local/lib/python3.10/dist-packages (from aiohttp<4->ome-zarr) (6.1.0)\n",
            "Requirement already satisfied: yarl<2.0,>=1.12.0 in /usr/local/lib/python3.10/dist-packages (from aiohttp<4->ome-zarr) (1.13.1)\n",
            "Requirement already satisfied: async-timeout<5.0,>=4.0 in /usr/local/lib/python3.10/dist-packages (from aiohttp<4->ome-zarr) (4.0.3)\n",
            "Collecting array-api-compat!=1.5,>1.4 (from anndata<0.11,>=0.7.8->vitessce)\n",
            "  Downloading array_api_compat-1.9-py3-none-any.whl.metadata (1.5 kB)\n",
            "Requirement already satisfied: exceptiongroup in /usr/local/lib/python3.10/dist-packages (from anndata<0.11,>=0.7.8->vitessce) (1.2.2)\n",
            "Requirement already satisfied: h5py>=3.1 in /usr/local/lib/python3.10/dist-packages (from anndata<0.11,>=0.7.8->vitessce) (3.11.0)\n",
            "Requirement already satisfied: natsort in /usr/local/lib/python3.10/dist-packages (from anndata<0.11,>=0.7.8->vitessce) (8.4.0)\n",
            "Requirement already satisfied: packaging>=20.0 in /usr/local/lib/python3.10/dist-packages (from anndata<0.11,>=0.7.8->vitessce) (24.1)\n",
            "Requirement already satisfied: idna>=2.8 in /usr/local/lib/python3.10/dist-packages (from anyio<5,>=3.4.0->starlette) (3.10)\n",
            "Requirement already satisfied: sniffio>=1.1 in /usr/local/lib/python3.10/dist-packages (from anyio<5,>=3.4.0->starlette) (1.3.1)\n",
            "Collecting mypy-extensions>=0.4.3 (from black>=21.11b1->vitessce)\n",
            "  Downloading mypy_extensions-1.0.0-py3-none-any.whl.metadata (1.1 kB)\n",
            "Collecting pathspec>=0.9.0 (from black>=21.11b1->vitessce)\n",
            "  Downloading pathspec-0.12.1-py3-none-any.whl.metadata (21 kB)\n",
            "Requirement already satisfied: platformdirs>=2 in /usr/local/lib/python3.10/dist-packages (from black>=21.11b1->vitessce) (4.3.6)\n",
            "Requirement already satisfied: tomli>=1.1.0 in /usr/local/lib/python3.10/dist-packages (from black>=21.11b1->vitessce) (2.0.1)\n",
            "Collecting s3fs (from fsspec[s3]!=2021.07.0,!=2023.09.0,>=0.8->ome-zarr)\n",
            "  Downloading s3fs-2024.9.0-py3-none-any.whl.metadata (1.6 kB)\n",
            "Requirement already satisfied: ipykernel>=4.5.1 in /usr/local/lib/python3.10/dist-packages (from ipywidgets>=7.6.0->anywidget) (5.5.6)\n",
            "Requirement already satisfied: ipython-genutils~=0.2.0 in /usr/local/lib/python3.10/dist-packages (from ipywidgets>=7.6.0->anywidget) (0.2.0)\n",
            "Requirement already satisfied: traitlets>=4.3.1 in /usr/local/lib/python3.10/dist-packages (from ipywidgets>=7.6.0->anywidget) (5.7.1)\n",
            "Requirement already satisfied: widgetsnbextension~=3.6.0 in /usr/local/lib/python3.10/dist-packages (from ipywidgets>=7.6.0->anywidget) (3.6.9)\n",
            "Requirement already satisfied: ipython>=4.0.0 in /usr/local/lib/python3.10/dist-packages (from ipywidgets>=7.6.0->anywidget) (7.34.0)\n",
            "Requirement already satisfied: jupyterlab-widgets>=1.0.0 in /usr/local/lib/python3.10/dist-packages (from ipywidgets>=7.6.0->anywidget) (3.0.13)\n",
            "Requirement already satisfied: jsonschema-specifications>=2023.03.6 in /usr/local/lib/python3.10/dist-packages (from jsonschema>=3.2->vitessce) (2023.12.1)\n",
            "Requirement already satisfied: referencing>=0.28.4 in /usr/local/lib/python3.10/dist-packages (from jsonschema>=3.2->vitessce) (0.35.1)\n",
            "Requirement already satisfied: rpds-py>=0.7.1 in /usr/local/lib/python3.10/dist-packages (from jsonschema>=3.2->vitessce) (0.20.0)\n",
            "Requirement already satisfied: python-dateutil>=2.8.2 in /usr/local/lib/python3.10/dist-packages (from pandas>=1.1.2->vitessce) (2.8.2)\n",
            "Requirement already satisfied: pytz>=2020.1 in /usr/local/lib/python3.10/dist-packages (from pandas>=1.1.2->vitessce) (2024.2)\n",
            "Requirement already satisfied: tzdata>=2022.7 in /usr/local/lib/python3.10/dist-packages (from pandas>=1.1.2->vitessce) (2024.2)\n",
            "Requirement already satisfied: annotated-types>=0.6.0 in /usr/local/lib/python3.10/dist-packages (from pydantic>=1.10.0->ome_types) (0.7.0)\n",
            "Requirement already satisfied: pydantic-core==2.23.4 in /usr/local/lib/python3.10/dist-packages (from pydantic>=1.10.0->ome_types) (2.23.4)\n",
            "Requirement already satisfied: joblib in /usr/local/lib/python3.10/dist-packages (from scanpy>=1.9.3->vitessce) (1.4.2)\n",
            "Collecting legacy-api-wrap>=1.4 (from scanpy>=1.9.3->vitessce)\n",
            "  Downloading legacy_api_wrap-1.4-py3-none-any.whl.metadata (1.8 kB)\n",
            "Requirement already satisfied: matplotlib>=3.6 in /usr/local/lib/python3.10/dist-packages (from scanpy>=1.9.3->vitessce) (3.7.1)\n",
            "Requirement already satisfied: networkx>=2.7 in /usr/local/lib/python3.10/dist-packages (from scanpy>=1.9.3->vitessce) (3.3)\n",
            "Requirement already satisfied: numba>=0.56 in /usr/local/lib/python3.10/dist-packages (from scanpy>=1.9.3->vitessce) (0.60.0)\n",
            "Requirement already satisfied: patsy in /usr/local/lib/python3.10/dist-packages (from scanpy>=1.9.3->vitessce) (0.5.6)\n",
            "Collecting pynndescent>=0.5 (from scanpy>=1.9.3->vitessce)\n",
            "  Downloading pynndescent-0.5.13-py3-none-any.whl.metadata (6.8 kB)\n",
            "Requirement already satisfied: scikit-learn>=0.24 in /usr/local/lib/python3.10/dist-packages (from scanpy>=1.9.3->vitessce) (1.5.2)\n",
            "Requirement already satisfied: seaborn>=0.13 in /usr/local/lib/python3.10/dist-packages (from scanpy>=1.9.3->vitessce) (0.13.1)\n",
            "Collecting session-info (from scanpy>=1.9.3->vitessce)\n",
            "  Downloading session_info-1.0.0.tar.gz (24 kB)\n",
            "  Preparing metadata (setup.py) ... \u001b[?25l\u001b[?25hdone\n",
            "Requirement already satisfied: statsmodels>=0.13 in /usr/local/lib/python3.10/dist-packages (from scanpy>=1.9.3->vitessce) (0.14.3)\n",
            "Collecting umap-learn!=0.5.0,>=0.5 (from scanpy>=1.9.3->vitessce)\n",
            "  Downloading umap_learn-0.5.6-py3-none-any.whl.metadata (21 kB)\n",
            "Collecting asciitree (from zarr>=2.5.0->vitessce)\n",
            "  Downloading asciitree-0.3.3.tar.gz (4.0 kB)\n",
            "  Preparing metadata (setup.py) ... \u001b[?25l\u001b[?25hdone\n",
            "Collecting fasteners (from zarr>=2.5.0->vitessce)\n",
            "  Downloading fasteners-0.19-py3-none-any.whl.metadata (4.9 kB)\n",
            "Requirement already satisfied: cloudpickle>=1.5.0 in /usr/local/lib/python3.10/dist-packages (from dask->ome-zarr) (2.2.1)\n",
            "Requirement already satisfied: partd>=1.4.0 in /usr/local/lib/python3.10/dist-packages (from dask->ome-zarr) (1.4.2)\n",
            "Requirement already satisfied: pyyaml>=5.3.1 in /usr/local/lib/python3.10/dist-packages (from dask->ome-zarr) (6.0.2)\n",
            "Requirement already satisfied: importlib-metadata>=4.13.0 in /usr/local/lib/python3.10/dist-packages (from dask->ome-zarr) (8.4.0)\n",
            "Requirement already satisfied: jinja2>=2.10.3 in /usr/local/lib/python3.10/dist-packages (from distributed->ome-zarr) (3.1.4)\n",
            "Requirement already satisfied: locket>=1.0.0 in /usr/local/lib/python3.10/dist-packages (from distributed->ome-zarr) (1.0.0)\n",
            "Requirement already satisfied: msgpack>=1.0.0 in /usr/local/lib/python3.10/dist-packages (from distributed->ome-zarr) (1.0.8)\n",
            "Requirement already satisfied: psutil>=5.7.2 in /usr/local/lib/python3.10/dist-packages (from distributed->ome-zarr) (5.9.5)\n",
            "Requirement already satisfied: sortedcontainers>=2.0.5 in /usr/local/lib/python3.10/dist-packages (from distributed->ome-zarr) (2.4.0)\n",
            "Requirement already satisfied: tblib>=1.6.0 in /usr/local/lib/python3.10/dist-packages (from distributed->ome-zarr) (3.0.0)\n",
            "Requirement already satisfied: tornado>=6.0.4 in /usr/local/lib/python3.10/dist-packages (from distributed->ome-zarr) (6.3.3)\n",
            "Requirement already satisfied: urllib3>=1.24.3 in /usr/local/lib/python3.10/dist-packages (from distributed->ome-zarr) (2.2.3)\n",
            "Requirement already satisfied: zict>=3.0.0 in /usr/local/lib/python3.10/dist-packages (from distributed->ome-zarr) (3.0.0)\n",
            "Requirement already satisfied: charset-normalizer<4,>=2 in /usr/local/lib/python3.10/dist-packages (from requests->ome-zarr) (3.3.2)\n",
            "Requirement already satisfied: certifi>=2017.4.17 in /usr/local/lib/python3.10/dist-packages (from requests->ome-zarr) (2024.8.30)\n",
            "Requirement already satisfied: pillow>=9.1 in /usr/local/lib/python3.10/dist-packages (from scikit-image->ome-zarr) (10.4.0)\n",
            "Requirement already satisfied: imageio>=2.33 in /usr/local/lib/python3.10/dist-packages (from scikit-image->ome-zarr) (2.35.1)\n",
            "Requirement already satisfied: lazy-loader>=0.4 in /usr/local/lib/python3.10/dist-packages (from scikit-image->ome-zarr) (0.4)\n",
            "Requirement already satisfied: zipp>=0.5 in /usr/local/lib/python3.10/dist-packages (from importlib-metadata>=4.13.0->dask->ome-zarr) (3.20.2)\n",
            "Requirement already satisfied: jupyter-client in /usr/local/lib/python3.10/dist-packages (from ipykernel>=4.5.1->ipywidgets>=7.6.0->anywidget) (6.1.12)\n",
            "Requirement already satisfied: setuptools>=18.5 in /usr/local/lib/python3.10/dist-packages (from ipython>=4.0.0->ipywidgets>=7.6.0->anywidget) (71.0.4)\n",
            "Collecting jedi>=0.16 (from ipython>=4.0.0->ipywidgets>=7.6.0->anywidget)\n",
            "  Using cached jedi-0.19.1-py2.py3-none-any.whl.metadata (22 kB)\n",
            "Requirement already satisfied: decorator in /usr/local/lib/python3.10/dist-packages (from ipython>=4.0.0->ipywidgets>=7.6.0->anywidget) (4.4.2)\n",
            "Requirement already satisfied: pickleshare in /usr/local/lib/python3.10/dist-packages (from ipython>=4.0.0->ipywidgets>=7.6.0->anywidget) (0.7.5)\n",
            "Requirement already satisfied: prompt-toolkit!=3.0.0,!=3.0.1,<3.1.0,>=2.0.0 in /usr/local/lib/python3.10/dist-packages (from ipython>=4.0.0->ipywidgets>=7.6.0->anywidget) (3.0.48)\n",
            "Requirement already satisfied: pygments in /usr/local/lib/python3.10/dist-packages (from ipython>=4.0.0->ipywidgets>=7.6.0->anywidget) (2.18.0)\n",
            "Requirement already satisfied: backcall in /usr/local/lib/python3.10/dist-packages (from ipython>=4.0.0->ipywidgets>=7.6.0->anywidget) (0.2.0)\n",
            "Requirement already satisfied: matplotlib-inline in /usr/local/lib/python3.10/dist-packages (from ipython>=4.0.0->ipywidgets>=7.6.0->anywidget) (0.1.7)\n",
            "Requirement already satisfied: pexpect>4.3 in /usr/local/lib/python3.10/dist-packages (from ipython>=4.0.0->ipywidgets>=7.6.0->anywidget) (4.9.0)\n",
            "Requirement already satisfied: MarkupSafe>=2.0 in /usr/local/lib/python3.10/dist-packages (from jinja2>=2.10.3->distributed->ome-zarr) (2.1.5)\n",
            "Requirement already satisfied: contourpy>=1.0.1 in /usr/local/lib/python3.10/dist-packages (from matplotlib>=3.6->scanpy>=1.9.3->vitessce) (1.3.0)\n",
            "Requirement already satisfied: cycler>=0.10 in /usr/local/lib/python3.10/dist-packages (from matplotlib>=3.6->scanpy>=1.9.3->vitessce) (0.12.1)\n",
            "Requirement already satisfied: fonttools>=4.22.0 in /usr/local/lib/python3.10/dist-packages (from matplotlib>=3.6->scanpy>=1.9.3->vitessce) (4.54.1)\n",
            "Requirement already satisfied: kiwisolver>=1.0.1 in /usr/local/lib/python3.10/dist-packages (from matplotlib>=3.6->scanpy>=1.9.3->vitessce) (1.4.7)\n",
            "Requirement already satisfied: pyparsing>=2.3.1 in /usr/local/lib/python3.10/dist-packages (from matplotlib>=3.6->scanpy>=1.9.3->vitessce) (3.1.4)\n",
            "Requirement already satisfied: llvmlite<0.44,>=0.43.0dev0 in /usr/local/lib/python3.10/dist-packages (from numba>=0.56->scanpy>=1.9.3->vitessce) (0.43.0)\n",
            "Requirement already satisfied: six>=1.5 in /usr/local/lib/python3.10/dist-packages (from python-dateutil>=2.8.2->pandas>=1.1.2->vitessce) (1.16.0)\n",
            "Requirement already satisfied: threadpoolctl>=3.1.0 in /usr/local/lib/python3.10/dist-packages (from scikit-learn>=0.24->scanpy>=1.9.3->vitessce) (3.5.0)\n",
            "Requirement already satisfied: notebook>=4.4.1 in /usr/local/lib/python3.10/dist-packages (from widgetsnbextension~=3.6.0->ipywidgets>=7.6.0->anywidget) (6.5.5)\n",
            "Collecting aiobotocore<3.0.0,>=2.5.4 (from s3fs->fsspec[s3]!=2021.07.0,!=2023.09.0,>=0.8->ome-zarr)\n",
            "  Downloading aiobotocore-2.15.1-py3-none-any.whl.metadata (23 kB)\n",
            "INFO: pip is looking at multiple versions of s3fs to determine which version is compatible with other requirements. This could take a while.\n",
            "Collecting s3fs (from fsspec[s3]!=2021.07.0,!=2023.09.0,>=0.8->ome-zarr)\n",
            "  Downloading s3fs-2024.6.1-py3-none-any.whl.metadata (1.6 kB)\n",
            "Collecting stdlib_list (from session-info->scanpy>=1.9.3->vitessce)\n",
            "  Downloading stdlib_list-0.10.0-py3-none-any.whl.metadata (3.3 kB)\n",
            "Collecting botocore<1.35.24,>=1.35.16 (from aiobotocore<3.0.0,>=2.5.4->s3fs->fsspec[s3]!=2021.07.0,!=2023.09.0,>=0.8->ome-zarr)\n",
            "  Downloading botocore-1.35.23-py3-none-any.whl.metadata (5.7 kB)\n",
            "Requirement already satisfied: wrapt<2.0.0,>=1.10.10 in /usr/local/lib/python3.10/dist-packages (from aiobotocore<3.0.0,>=2.5.4->s3fs->fsspec[s3]!=2021.07.0,!=2023.09.0,>=0.8->ome-zarr) (1.16.0)\n",
            "Collecting aioitertools<1.0.0,>=0.5.1 (from aiobotocore<3.0.0,>=2.5.4->s3fs->fsspec[s3]!=2021.07.0,!=2023.09.0,>=0.8->ome-zarr)\n",
            "  Downloading aioitertools-0.12.0-py3-none-any.whl.metadata (3.8 kB)\n",
            "Requirement already satisfied: parso<0.9.0,>=0.8.3 in /usr/local/lib/python3.10/dist-packages (from jedi>=0.16->ipython>=4.0.0->ipywidgets>=7.6.0->anywidget) (0.8.4)\n",
            "Requirement already satisfied: pyzmq<25,>=17 in /usr/local/lib/python3.10/dist-packages (from notebook>=4.4.1->widgetsnbextension~=3.6.0->ipywidgets>=7.6.0->anywidget) (24.0.1)\n",
            "Requirement already satisfied: argon2-cffi in /usr/local/lib/python3.10/dist-packages (from notebook>=4.4.1->widgetsnbextension~=3.6.0->ipywidgets>=7.6.0->anywidget) (23.1.0)\n",
            "Requirement already satisfied: jupyter-core>=4.6.1 in /usr/local/lib/python3.10/dist-packages (from notebook>=4.4.1->widgetsnbextension~=3.6.0->ipywidgets>=7.6.0->anywidget) (5.7.2)\n",
            "Requirement already satisfied: nbformat in /usr/local/lib/python3.10/dist-packages (from notebook>=4.4.1->widgetsnbextension~=3.6.0->ipywidgets>=7.6.0->anywidget) (5.10.4)\n",
            "Requirement already satisfied: nbconvert>=5 in /usr/local/lib/python3.10/dist-packages (from notebook>=4.4.1->widgetsnbextension~=3.6.0->ipywidgets>=7.6.0->anywidget) (6.5.4)\n",
            "Requirement already satisfied: nest-asyncio>=1.5 in /usr/local/lib/python3.10/dist-packages (from notebook>=4.4.1->widgetsnbextension~=3.6.0->ipywidgets>=7.6.0->anywidget) (1.6.0)\n",
            "Requirement already satisfied: Send2Trash>=1.8.0 in /usr/local/lib/python3.10/dist-packages (from notebook>=4.4.1->widgetsnbextension~=3.6.0->ipywidgets>=7.6.0->anywidget) (1.8.3)\n",
            "Requirement already satisfied: terminado>=0.8.3 in /usr/local/lib/python3.10/dist-packages (from notebook>=4.4.1->widgetsnbextension~=3.6.0->ipywidgets>=7.6.0->anywidget) (0.18.1)\n",
            "Requirement already satisfied: prometheus-client in /usr/local/lib/python3.10/dist-packages (from notebook>=4.4.1->widgetsnbextension~=3.6.0->ipywidgets>=7.6.0->anywidget) (0.21.0)\n",
            "Requirement already satisfied: nbclassic>=0.4.7 in /usr/local/lib/python3.10/dist-packages (from notebook>=4.4.1->widgetsnbextension~=3.6.0->ipywidgets>=7.6.0->anywidget) (1.1.0)\n",
            "Requirement already satisfied: ptyprocess>=0.5 in /usr/local/lib/python3.10/dist-packages (from pexpect>4.3->ipython>=4.0.0->ipywidgets>=7.6.0->anywidget) (0.7.0)\n",
            "Requirement already satisfied: wcwidth in /usr/local/lib/python3.10/dist-packages (from prompt-toolkit!=3.0.0,!=3.0.1,<3.1.0,>=2.0.0->ipython>=4.0.0->ipywidgets>=7.6.0->anywidget) (0.2.13)\n",
            "Collecting jmespath<2.0.0,>=0.7.1 (from botocore<1.35.24,>=1.35.16->aiobotocore<3.0.0,>=2.5.4->s3fs->fsspec[s3]!=2021.07.0,!=2023.09.0,>=0.8->ome-zarr)\n",
            "  Downloading jmespath-1.0.1-py3-none-any.whl.metadata (7.6 kB)\n",
            "Requirement already satisfied: notebook-shim>=0.2.3 in /usr/local/lib/python3.10/dist-packages (from nbclassic>=0.4.7->notebook>=4.4.1->widgetsnbextension~=3.6.0->ipywidgets>=7.6.0->anywidget) (0.2.4)\n",
            "Requirement already satisfied: lxml in /usr/local/lib/python3.10/dist-packages (from nbconvert>=5->notebook>=4.4.1->widgetsnbextension~=3.6.0->ipywidgets>=7.6.0->anywidget) (4.9.4)\n",
            "Requirement already satisfied: beautifulsoup4 in /usr/local/lib/python3.10/dist-packages (from nbconvert>=5->notebook>=4.4.1->widgetsnbextension~=3.6.0->ipywidgets>=7.6.0->anywidget) (4.12.3)\n",
            "Requirement already satisfied: bleach in /usr/local/lib/python3.10/dist-packages (from nbconvert>=5->notebook>=4.4.1->widgetsnbextension~=3.6.0->ipywidgets>=7.6.0->anywidget) (6.1.0)\n",
            "Requirement already satisfied: defusedxml in /usr/local/lib/python3.10/dist-packages (from nbconvert>=5->notebook>=4.4.1->widgetsnbextension~=3.6.0->ipywidgets>=7.6.0->anywidget) (0.7.1)\n",
            "Requirement already satisfied: entrypoints>=0.2.2 in /usr/local/lib/python3.10/dist-packages (from nbconvert>=5->notebook>=4.4.1->widgetsnbextension~=3.6.0->ipywidgets>=7.6.0->anywidget) (0.4)\n",
            "Requirement already satisfied: jupyterlab-pygments in /usr/local/lib/python3.10/dist-packages (from nbconvert>=5->notebook>=4.4.1->widgetsnbextension~=3.6.0->ipywidgets>=7.6.0->anywidget) (0.3.0)\n",
            "Requirement already satisfied: mistune<2,>=0.8.1 in /usr/local/lib/python3.10/dist-packages (from nbconvert>=5->notebook>=4.4.1->widgetsnbextension~=3.6.0->ipywidgets>=7.6.0->anywidget) (0.8.4)\n",
            "Requirement already satisfied: nbclient>=0.5.0 in /usr/local/lib/python3.10/dist-packages (from nbconvert>=5->notebook>=4.4.1->widgetsnbextension~=3.6.0->ipywidgets>=7.6.0->anywidget) (0.10.0)\n",
            "Requirement already satisfied: pandocfilters>=1.4.1 in /usr/local/lib/python3.10/dist-packages (from nbconvert>=5->notebook>=4.4.1->widgetsnbextension~=3.6.0->ipywidgets>=7.6.0->anywidget) (1.5.1)\n",
            "Requirement already satisfied: tinycss2 in /usr/local/lib/python3.10/dist-packages (from nbconvert>=5->notebook>=4.4.1->widgetsnbextension~=3.6.0->ipywidgets>=7.6.0->anywidget) (1.3.0)\n",
            "Requirement already satisfied: fastjsonschema>=2.15 in /usr/local/lib/python3.10/dist-packages (from nbformat->notebook>=4.4.1->widgetsnbextension~=3.6.0->ipywidgets>=7.6.0->anywidget) (2.20.0)\n",
            "Requirement already satisfied: argon2-cffi-bindings in /usr/local/lib/python3.10/dist-packages (from argon2-cffi->notebook>=4.4.1->widgetsnbextension~=3.6.0->ipywidgets>=7.6.0->anywidget) (21.2.0)\n",
            "Requirement already satisfied: jupyter-server<3,>=1.8 in /usr/local/lib/python3.10/dist-packages (from notebook-shim>=0.2.3->nbclassic>=0.4.7->notebook>=4.4.1->widgetsnbextension~=3.6.0->ipywidgets>=7.6.0->anywidget) (1.24.0)\n",
            "Requirement already satisfied: cffi>=1.0.1 in /usr/local/lib/python3.10/dist-packages (from argon2-cffi-bindings->argon2-cffi->notebook>=4.4.1->widgetsnbextension~=3.6.0->ipywidgets>=7.6.0->anywidget) (1.17.1)\n",
            "Requirement already satisfied: soupsieve>1.2 in /usr/local/lib/python3.10/dist-packages (from beautifulsoup4->nbconvert>=5->notebook>=4.4.1->widgetsnbextension~=3.6.0->ipywidgets>=7.6.0->anywidget) (2.6)\n",
            "Requirement already satisfied: webencodings in /usr/local/lib/python3.10/dist-packages (from bleach->nbconvert>=5->notebook>=4.4.1->widgetsnbextension~=3.6.0->ipywidgets>=7.6.0->anywidget) (0.5.1)\n",
            "Requirement already satisfied: pycparser in /usr/local/lib/python3.10/dist-packages (from cffi>=1.0.1->argon2-cffi-bindings->argon2-cffi->notebook>=4.4.1->widgetsnbextension~=3.6.0->ipywidgets>=7.6.0->anywidget) (2.22)\n",
            "Requirement already satisfied: websocket-client in /usr/local/lib/python3.10/dist-packages (from jupyter-server<3,>=1.8->notebook-shim>=0.2.3->nbclassic>=0.4.7->notebook>=4.4.1->widgetsnbextension~=3.6.0->ipywidgets>=7.6.0->anywidget) (1.8.0)\n",
            "Downloading vitessce-3.4.0-py2.py3-none-any.whl (65 kB)\n",
            "\u001b[2K   \u001b[90m━━━━━━━━━━━━━━━━━━━━━━━━━━━━━━━━━━━━━━━━\u001b[0m \u001b[32m65.5/65.5 kB\u001b[0m \u001b[31m5.3 MB/s\u001b[0m eta \u001b[36m0:00:00\u001b[0m\n",
            "\u001b[?25hDownloading ome_zarr-0.8.3-py3-none-any.whl (36 kB)\n",
            "Downloading anywidget-0.9.13-py3-none-any.whl (213 kB)\n",
            "\u001b[2K   \u001b[90m━━━━━━━━━━━━━━━━━━━━━━━━━━━━━━━━━━━━━━━━\u001b[0m \u001b[32m213.7/213.7 kB\u001b[0m \u001b[31m13.8 MB/s\u001b[0m eta \u001b[36m0:00:00\u001b[0m\n",
            "\u001b[?25hDownloading uvicorn-0.31.0-py3-none-any.whl (63 kB)\n",
            "\u001b[2K   \u001b[90m━━━━━━━━━━━━━━━━━━━━━━━━━━━━━━━━━━━━━━━━\u001b[0m \u001b[32m63.7/63.7 kB\u001b[0m \u001b[31m4.6 MB/s\u001b[0m eta \u001b[36m0:00:00\u001b[0m\n",
            "\u001b[?25hDownloading starlette-0.39.2-py3-none-any.whl (73 kB)\n",
            "\u001b[2K   \u001b[90m━━━━━━━━━━━━━━━━━━━━━━━━━━━━━━━━━━━━━━━━\u001b[0m \u001b[32m73.2/73.2 kB\u001b[0m \u001b[31m5.8 MB/s\u001b[0m eta \u001b[36m0:00:00\u001b[0m\n",
            "\u001b[?25hDownloading ome_types-0.5.2-py3-none-any.whl (248 kB)\n",
            "\u001b[2K   \u001b[90m━━━━━━━━━━━━━━━━━━━━━━━━━━━━━━━━━━━━━━━━\u001b[0m \u001b[32m248.2/248.2 kB\u001b[0m \u001b[31m16.5 MB/s\u001b[0m eta \u001b[36m0:00:00\u001b[0m\n",
            "\u001b[?25hDownloading anndata-0.10.9-py3-none-any.whl (128 kB)\n",
            "\u001b[2K   \u001b[90m━━━━━━━━━━━━━━━━━━━━━━━━━━━━━━━━━━━━━━━━\u001b[0m \u001b[32m129.0/129.0 kB\u001b[0m \u001b[31m6.9 MB/s\u001b[0m eta \u001b[36m0:00:00\u001b[0m\n",
            "\u001b[?25hDownloading black-24.8.0-cp310-cp310-manylinux_2_17_x86_64.manylinux2014_x86_64.manylinux_2_28_x86_64.whl (1.8 MB)\n",
            "\u001b[2K   \u001b[90m━━━━━━━━━━━━━━━━━━━━━━━━━━━━━━━━━━━━━━━━\u001b[0m \u001b[32m1.8/1.8 MB\u001b[0m \u001b[31m38.3 MB/s\u001b[0m eta \u001b[36m0:00:00\u001b[0m\n",
            "\u001b[?25hDownloading h11-0.14.0-py3-none-any.whl (58 kB)\n",
            "\u001b[2K   \u001b[90m━━━━━━━━━━━━━━━━━━━━━━━━━━━━━━━━━━━━━━━━\u001b[0m \u001b[32m58.3/58.3 kB\u001b[0m \u001b[31m4.2 MB/s\u001b[0m eta \u001b[36m0:00:00\u001b[0m\n",
            "\u001b[?25hDownloading numcodecs-0.13.0-cp310-cp310-manylinux_2_17_x86_64.manylinux2014_x86_64.whl (8.6 MB)\n",
            "\u001b[2K   \u001b[90m━━━━━━━━━━━━━━━━━━━━━━━━━━━━━━━━━━━━━━━━\u001b[0m \u001b[32m8.6/8.6 MB\u001b[0m \u001b[31m51.1 MB/s\u001b[0m eta \u001b[36m0:00:00\u001b[0m\n",
            "\u001b[?25hDownloading psygnal-0.11.1-cp310-cp310-manylinux_2_17_x86_64.manylinux2014_x86_64.whl (727 kB)\n",
            "\u001b[2K   \u001b[90m━━━━━━━━━━━━━━━━━━━━━━━━━━━━━━━━━━━━━━━━\u001b[0m \u001b[32m727.4/727.4 kB\u001b[0m \u001b[31m23.9 MB/s\u001b[0m eta \u001b[36m0:00:00\u001b[0m\n",
            "\u001b[?25hDownloading pydantic_compat-0.1.2-py3-none-any.whl (13 kB)\n",
            "Downloading scanpy-1.10.3-py3-none-any.whl (2.1 MB)\n",
            "\u001b[2K   \u001b[90m━━━━━━━━━━━━━━━━━━━━━━━━━━━━━━━━━━━━━━━━\u001b[0m \u001b[32m2.1/2.1 MB\u001b[0m \u001b[31m43.4 MB/s\u001b[0m eta \u001b[36m0:00:00\u001b[0m\n",
            "\u001b[?25hDownloading xsdata-24.3.1-py3-none-any.whl (224 kB)\n",
            "\u001b[2K   \u001b[90m━━━━━━━━━━━━━━━━━━━━━━━━━━━━━━━━━━━━━━━━\u001b[0m \u001b[32m224.1/224.1 kB\u001b[0m \u001b[31m15.2 MB/s\u001b[0m eta \u001b[36m0:00:00\u001b[0m\n",
            "\u001b[?25hDownloading zarr-2.18.3-py3-none-any.whl (210 kB)\n",
            "\u001b[2K   \u001b[90m━━━━━━━━━━━━━━━━━━━━━━━━━━━━━━━━━━━━━━━━\u001b[0m \u001b[32m210.7/210.7 kB\u001b[0m \u001b[31m13.2 MB/s\u001b[0m eta \u001b[36m0:00:00\u001b[0m\n",
            "\u001b[?25hDownloading array_api_compat-1.9-py3-none-any.whl (49 kB)\n",
            "\u001b[2K   \u001b[90m━━━━━━━━━━━━━━━━━━━━━━━━━━━━━━━━━━━━━━━━\u001b[0m \u001b[32m49.5/49.5 kB\u001b[0m \u001b[31m3.6 MB/s\u001b[0m eta \u001b[36m0:00:00\u001b[0m\n",
            "\u001b[?25hDownloading legacy_api_wrap-1.4-py3-none-any.whl (15 kB)\n",
            "Downloading mypy_extensions-1.0.0-py3-none-any.whl (4.7 kB)\n",
            "Downloading pathspec-0.12.1-py3-none-any.whl (31 kB)\n",
            "Downloading pynndescent-0.5.13-py3-none-any.whl (56 kB)\n",
            "\u001b[2K   \u001b[90m━━━━━━━━━━━━━━━━━━━━━━━━━━━━━━━━━━━━━━━━\u001b[0m \u001b[32m56.9/56.9 kB\u001b[0m \u001b[31m948.1 kB/s\u001b[0m eta \u001b[36m0:00:00\u001b[0m\n",
            "\u001b[?25hDownloading umap_learn-0.5.6-py3-none-any.whl (85 kB)\n",
            "\u001b[2K   \u001b[90m━━━━━━━━━━━━━━━━━━━━━━━━━━━━━━━━━━━━━━━━\u001b[0m \u001b[32m85.7/85.7 kB\u001b[0m \u001b[31m6.7 MB/s\u001b[0m eta \u001b[36m0:00:00\u001b[0m\n",
            "\u001b[?25hDownloading fasteners-0.19-py3-none-any.whl (18 kB)\n",
            "Downloading s3fs-2024.6.1-py3-none-any.whl (29 kB)\n",
            "Downloading aiobotocore-2.15.1-py3-none-any.whl (77 kB)\n",
            "\u001b[2K   \u001b[90m━━━━━━━━━━━━━━━━━━━━━━━━━━━━━━━━━━━━━━━━\u001b[0m \u001b[32m77.4/77.4 kB\u001b[0m \u001b[31m4.8 MB/s\u001b[0m eta \u001b[36m0:00:00\u001b[0m\n",
            "\u001b[?25hUsing cached jedi-0.19.1-py2.py3-none-any.whl (1.6 MB)\n",
            "Downloading stdlib_list-0.10.0-py3-none-any.whl (79 kB)\n",
            "\u001b[2K   \u001b[90m━━━━━━━━━━━━━━━━━━━━━━━━━━━━━━━━━━━━━━━━\u001b[0m \u001b[32m79.8/79.8 kB\u001b[0m \u001b[31m5.7 MB/s\u001b[0m eta \u001b[36m0:00:00\u001b[0m\n",
            "\u001b[?25hDownloading aioitertools-0.12.0-py3-none-any.whl (24 kB)\n",
            "Downloading botocore-1.35.23-py3-none-any.whl (12.6 MB)\n",
            "\u001b[2K   \u001b[90m━━━━━━━━━━━━━━━━━━━━━━━━━━━━━━━━━━━━━━━━\u001b[0m \u001b[32m12.6/12.6 MB\u001b[0m \u001b[31m31.0 MB/s\u001b[0m eta \u001b[36m0:00:00\u001b[0m\n",
            "\u001b[?25hDownloading jmespath-1.0.1-py3-none-any.whl (20 kB)\n",
            "Building wheels for collected packages: negspy, asciitree, session-info\n",
            "  Building wheel for negspy (setup.py) ... \u001b[?25l\u001b[?25hdone\n",
            "  Created wheel for negspy: filename=negspy-0.2.24-py3-none-any.whl size=1725342 sha256=8348fdc67c63c2fa5736cb28cc8bd510e31edf0a83d9c46deb17816aad1f9c53\n",
            "  Stored in directory: /root/.cache/pip/wheels/4c/01/07/77d7b941e82a624da932e7745bb9a1265418559a23b7bec627\n",
            "  Building wheel for asciitree (setup.py) ... \u001b[?25l\u001b[?25hdone\n",
            "  Created wheel for asciitree: filename=asciitree-0.3.3-py3-none-any.whl size=5033 sha256=56913c71f08704c06d9dbd3f059efe4b11c910135c3db69bbbdb233f3a5d30a5\n",
            "  Stored in directory: /root/.cache/pip/wheels/7f/4e/be/1171b40f43b918087657ec57cf3b81fa1a2e027d8755baa184\n",
            "  Building wheel for session-info (setup.py) ... \u001b[?25l\u001b[?25hdone\n",
            "  Created wheel for session-info: filename=session_info-1.0.0-py3-none-any.whl size=8023 sha256=35df0d07cdcc5cc409a67379fbd683b111218f0520af5eb4b94837c860a98930\n",
            "  Stored in directory: /root/.cache/pip/wheels/6a/aa/b9/eb5d4031476ec10802795b97ccf937b9bd998d68a9b268765a\n",
            "Successfully built negspy asciitree session-info\n",
            "Installing collected packages: negspy, asciitree, array-api-compat, xsdata, stdlib_list, psygnal, pathspec, numcodecs, mypy-extensions, legacy-api-wrap, jmespath, jedi, h11, fasteners, aioitertools, zarr, uvicorn, starlette, session-info, botocore, black, pynndescent, pydantic-compat, anndata, umap-learn, ome_types, aiobotocore, scanpy, s3fs, ome-zarr, vitessce, anywidget\n",
            "Successfully installed aiobotocore-2.15.1 aioitertools-0.12.0 anndata-0.10.9 anywidget-0.9.13 array-api-compat-1.9 asciitree-0.3.3 black-24.8.0 botocore-1.35.23 fasteners-0.19 h11-0.14.0 jedi-0.19.1 jmespath-1.0.1 legacy-api-wrap-1.4 mypy-extensions-1.0.0 negspy-0.2.24 numcodecs-0.13.0 ome-zarr-0.8.3 ome_types-0.5.2 pathspec-0.12.1 psygnal-0.11.1 pydantic-compat-0.1.2 pynndescent-0.5.13 s3fs-2024.6.1 scanpy-1.10.3 session-info-1.0.0 starlette-0.39.2 stdlib_list-0.10.0 umap-learn-0.5.6 uvicorn-0.31.0 vitessce-3.4.0 xsdata-24.3.1 zarr-2.18.3\n"
          ]
        }
      ]
    },
    {
      "cell_type": "markdown",
      "source": [
        "## Accessing the Data to create configurations"
      ],
      "metadata": {
        "id": "TlV6TGTmZMne"
      }
    },
    {
      "cell_type": "code",
      "source": [
        "import dask.array as da\n",
        "import zarr\n",
        "import requests\n",
        "import io\n",
        "from ome_zarr.io import parse_url\n",
        "import ome_types"
      ],
      "metadata": {
        "id": "pg5yHrbIarFw"
      },
      "execution_count": null,
      "outputs": []
    },
    {
      "cell_type": "code",
      "source": [
        "path = \"https://lsp-public-data.s3.amazonaws.com/yapp-2023-3d-melanoma/Dataset1-LSP13626-melanoma-in-situ/0\"\n",
        "root = parse_url(path, mode=\"w\")\n",
        "store = root.store\n",
        "daskArray = da.from_zarr(store, component=\"3\") # t=0, high-res\n",
        "daskArray"
      ],
      "metadata": {
        "colab": {
          "base_uri": "https://localhost:8080/",
          "height": 162
        },
        "id": "DEM2eXtOemAY",
        "outputId": "cc1150b0-b5b9-4c5d-ce0a-4975177a28c8"
      },
      "execution_count": null,
      "outputs": [
        {
          "output_type": "execute_result",
          "data": {
            "text/plain": [
              "dask.array<from-zarr, shape=(1, 70, 194, 688, 1363), dtype=>u2, chunksize=(1, 1, 1, 688, 1024), chunktype=numpy.ndarray>"
            ],
            "text/html": [
              "<table>\n",
              "    <tr>\n",
              "        <td>\n",
              "            <table style=\"border-collapse: collapse;\">\n",
              "                <thead>\n",
              "                    <tr>\n",
              "                        <td> </td>\n",
              "                        <th> Array </th>\n",
              "                        <th> Chunk </th>\n",
              "                    </tr>\n",
              "                </thead>\n",
              "                <tbody>\n",
              "                    \n",
              "                    <tr>\n",
              "                        <th> Bytes </th>\n",
              "                        <td> 23.72 GiB </td>\n",
              "                        <td> 1.34 MiB </td>\n",
              "                    </tr>\n",
              "                    \n",
              "                    <tr>\n",
              "                        <th> Shape </th>\n",
              "                        <td> (1, 70, 194, 688, 1363) </td>\n",
              "                        <td> (1, 1, 1, 688, 1024) </td>\n",
              "                    </tr>\n",
              "                    <tr>\n",
              "                        <th> Dask graph </th>\n",
              "                        <td colspan=\"2\"> 27160 chunks in 2 graph layers </td>\n",
              "                    </tr>\n",
              "                    <tr>\n",
              "                        <th> Data type </th>\n",
              "                        <td colspan=\"2\"> >u2 numpy.ndarray </td>\n",
              "                    </tr>\n",
              "                </tbody>\n",
              "            </table>\n",
              "        </td>\n",
              "        <td>\n",
              "        <svg width=\"401\" height=\"134\" style=\"stroke:rgb(0,0,0);stroke-width:1\" >\n",
              "\n",
              "  <!-- Horizontal lines -->\n",
              "  <line x1=\"0\" y1=\"0\" x2=\"34\" y2=\"0\" style=\"stroke-width:2\" />\n",
              "  <line x1=\"0\" y1=\"25\" x2=\"34\" y2=\"25\" style=\"stroke-width:2\" />\n",
              "\n",
              "  <!-- Vertical lines -->\n",
              "  <line x1=\"0\" y1=\"0\" x2=\"0\" y2=\"25\" style=\"stroke-width:2\" />\n",
              "  <line x1=\"0\" y1=\"0\" x2=\"0\" y2=\"25\" />\n",
              "  <line x1=\"1\" y1=\"0\" x2=\"1\" y2=\"25\" />\n",
              "  <line x1=\"2\" y1=\"0\" x2=\"2\" y2=\"25\" />\n",
              "  <line x1=\"3\" y1=\"0\" x2=\"3\" y2=\"25\" />\n",
              "  <line x1=\"4\" y1=\"0\" x2=\"4\" y2=\"25\" />\n",
              "  <line x1=\"6\" y1=\"0\" x2=\"6\" y2=\"25\" />\n",
              "  <line x1=\"7\" y1=\"0\" x2=\"7\" y2=\"25\" />\n",
              "  <line x1=\"8\" y1=\"0\" x2=\"8\" y2=\"25\" />\n",
              "  <line x1=\"9\" y1=\"0\" x2=\"9\" y2=\"25\" />\n",
              "  <line x1=\"10\" y1=\"0\" x2=\"10\" y2=\"25\" />\n",
              "  <line x1=\"11\" y1=\"0\" x2=\"11\" y2=\"25\" />\n",
              "  <line x1=\"12\" y1=\"0\" x2=\"12\" y2=\"25\" />\n",
              "  <line x1=\"13\" y1=\"0\" x2=\"13\" y2=\"25\" />\n",
              "  <line x1=\"14\" y1=\"0\" x2=\"14\" y2=\"25\" />\n",
              "  <line x1=\"15\" y1=\"0\" x2=\"15\" y2=\"25\" />\n",
              "  <line x1=\"17\" y1=\"0\" x2=\"17\" y2=\"25\" />\n",
              "  <line x1=\"18\" y1=\"0\" x2=\"18\" y2=\"25\" />\n",
              "  <line x1=\"19\" y1=\"0\" x2=\"19\" y2=\"25\" />\n",
              "  <line x1=\"20\" y1=\"0\" x2=\"20\" y2=\"25\" />\n",
              "  <line x1=\"21\" y1=\"0\" x2=\"21\" y2=\"25\" />\n",
              "  <line x1=\"22\" y1=\"0\" x2=\"22\" y2=\"25\" />\n",
              "  <line x1=\"23\" y1=\"0\" x2=\"23\" y2=\"25\" />\n",
              "  <line x1=\"24\" y1=\"0\" x2=\"24\" y2=\"25\" />\n",
              "  <line x1=\"25\" y1=\"0\" x2=\"25\" y2=\"25\" />\n",
              "  <line x1=\"26\" y1=\"0\" x2=\"26\" y2=\"25\" />\n",
              "  <line x1=\"27\" y1=\"0\" x2=\"27\" y2=\"25\" />\n",
              "  <line x1=\"29\" y1=\"0\" x2=\"29\" y2=\"25\" />\n",
              "  <line x1=\"30\" y1=\"0\" x2=\"30\" y2=\"25\" />\n",
              "  <line x1=\"31\" y1=\"0\" x2=\"31\" y2=\"25\" />\n",
              "  <line x1=\"32\" y1=\"0\" x2=\"32\" y2=\"25\" />\n",
              "  <line x1=\"33\" y1=\"0\" x2=\"33\" y2=\"25\" />\n",
              "  <line x1=\"34\" y1=\"0\" x2=\"34\" y2=\"25\" style=\"stroke-width:2\" />\n",
              "\n",
              "  <!-- Colored Rectangle -->\n",
              "  <polygon points=\"0.0,0.0 34.66494930269574,0.0 34.66494930269574,25.412616514582485 0.0,25.412616514582485\" style=\"fill:#8B4903A0;stroke-width:0\"/>\n",
              "\n",
              "  <!-- Text -->\n",
              "  <text x=\"17.332475\" y=\"45.412617\" font-size=\"1.0rem\" font-weight=\"100\" text-anchor=\"middle\" >70</text>\n",
              "  <text x=\"54.664949\" y=\"12.706308\" font-size=\"1.0rem\" font-weight=\"100\" text-anchor=\"middle\" transform=\"rotate(0,54.664949,12.706308)\">1</text>\n",
              "\n",
              "\n",
              "  <!-- Horizontal lines -->\n",
              "  <line x1=\"104\" y1=\"0\" x2=\"127\" y2=\"23\" style=\"stroke-width:2\" />\n",
              "  <line x1=\"104\" y1=\"60\" x2=\"127\" y2=\"84\" style=\"stroke-width:2\" />\n",
              "\n",
              "  <!-- Vertical lines -->\n",
              "  <line x1=\"104\" y1=\"0\" x2=\"104\" y2=\"60\" style=\"stroke-width:2\" />\n",
              "  <line x1=\"104\" y1=\"0\" x2=\"104\" y2=\"61\" />\n",
              "  <line x1=\"105\" y1=\"1\" x2=\"105\" y2=\"62\" />\n",
              "  <line x1=\"106\" y1=\"2\" x2=\"106\" y2=\"62\" />\n",
              "  <line x1=\"106\" y1=\"2\" x2=\"106\" y2=\"63\" />\n",
              "  <line x1=\"107\" y1=\"3\" x2=\"107\" y2=\"64\" />\n",
              "  <line x1=\"108\" y1=\"4\" x2=\"108\" y2=\"64\" />\n",
              "  <line x1=\"109\" y1=\"5\" x2=\"109\" y2=\"65\" />\n",
              "  <line x1=\"109\" y1=\"5\" x2=\"109\" y2=\"66\" />\n",
              "  <line x1=\"110\" y1=\"6\" x2=\"110\" y2=\"67\" />\n",
              "  <line x1=\"111\" y1=\"7\" x2=\"111\" y2=\"67\" />\n",
              "  <line x1=\"112\" y1=\"8\" x2=\"112\" y2=\"68\" />\n",
              "  <line x1=\"112\" y1=\"8\" x2=\"112\" y2=\"69\" />\n",
              "  <line x1=\"113\" y1=\"9\" x2=\"113\" y2=\"70\" />\n",
              "  <line x1=\"114\" y1=\"10\" x2=\"114\" y2=\"70\" />\n",
              "  <line x1=\"115\" y1=\"11\" x2=\"115\" y2=\"71\" />\n",
              "  <line x1=\"115\" y1=\"11\" x2=\"115\" y2=\"72\" />\n",
              "  <line x1=\"116\" y1=\"12\" x2=\"116\" y2=\"73\" />\n",
              "  <line x1=\"117\" y1=\"13\" x2=\"117\" y2=\"73\" />\n",
              "  <line x1=\"118\" y1=\"14\" x2=\"118\" y2=\"74\" />\n",
              "  <line x1=\"118\" y1=\"14\" x2=\"118\" y2=\"75\" />\n",
              "  <line x1=\"119\" y1=\"15\" x2=\"119\" y2=\"76\" />\n",
              "  <line x1=\"120\" y1=\"16\" x2=\"120\" y2=\"76\" />\n",
              "  <line x1=\"121\" y1=\"17\" x2=\"121\" y2=\"77\" />\n",
              "  <line x1=\"121\" y1=\"17\" x2=\"121\" y2=\"78\" />\n",
              "  <line x1=\"122\" y1=\"18\" x2=\"122\" y2=\"79\" />\n",
              "  <line x1=\"123\" y1=\"19\" x2=\"123\" y2=\"79\" />\n",
              "  <line x1=\"123\" y1=\"19\" x2=\"123\" y2=\"80\" />\n",
              "  <line x1=\"124\" y1=\"20\" x2=\"124\" y2=\"81\" />\n",
              "  <line x1=\"125\" y1=\"21\" x2=\"125\" y2=\"82\" />\n",
              "  <line x1=\"126\" y1=\"22\" x2=\"126\" y2=\"82\" />\n",
              "  <line x1=\"126\" y1=\"22\" x2=\"126\" y2=\"83\" />\n",
              "  <line x1=\"127\" y1=\"23\" x2=\"127\" y2=\"84\" style=\"stroke-width:2\" />\n",
              "\n",
              "  <!-- Colored Rectangle -->\n",
              "  <polygon points=\"104.0,0.0 127.79431627014685,23.79431627014685 127.79431627014685,84.36658332810723 104.0,60.57226705796038\" style=\"fill:#8B4903A0;stroke-width:0\"/>\n",
              "\n",
              "  <!-- Horizontal lines -->\n",
              "  <line x1=\"104\" y1=\"0\" x2=\"224\" y2=\"0\" style=\"stroke-width:2\" />\n",
              "  <line x1=\"104\" y1=\"0\" x2=\"224\" y2=\"0\" />\n",
              "  <line x1=\"105\" y1=\"1\" x2=\"225\" y2=\"1\" />\n",
              "  <line x1=\"106\" y1=\"2\" x2=\"226\" y2=\"2\" />\n",
              "  <line x1=\"106\" y1=\"2\" x2=\"226\" y2=\"2\" />\n",
              "  <line x1=\"107\" y1=\"3\" x2=\"227\" y2=\"3\" />\n",
              "  <line x1=\"108\" y1=\"4\" x2=\"228\" y2=\"4\" />\n",
              "  <line x1=\"109\" y1=\"5\" x2=\"229\" y2=\"5\" />\n",
              "  <line x1=\"109\" y1=\"5\" x2=\"229\" y2=\"5\" />\n",
              "  <line x1=\"110\" y1=\"6\" x2=\"230\" y2=\"6\" />\n",
              "  <line x1=\"111\" y1=\"7\" x2=\"231\" y2=\"7\" />\n",
              "  <line x1=\"112\" y1=\"8\" x2=\"232\" y2=\"8\" />\n",
              "  <line x1=\"112\" y1=\"8\" x2=\"232\" y2=\"8\" />\n",
              "  <line x1=\"113\" y1=\"9\" x2=\"233\" y2=\"9\" />\n",
              "  <line x1=\"114\" y1=\"10\" x2=\"234\" y2=\"10\" />\n",
              "  <line x1=\"115\" y1=\"11\" x2=\"235\" y2=\"11\" />\n",
              "  <line x1=\"115\" y1=\"11\" x2=\"235\" y2=\"11\" />\n",
              "  <line x1=\"116\" y1=\"12\" x2=\"236\" y2=\"12\" />\n",
              "  <line x1=\"117\" y1=\"13\" x2=\"237\" y2=\"13\" />\n",
              "  <line x1=\"118\" y1=\"14\" x2=\"238\" y2=\"14\" />\n",
              "  <line x1=\"118\" y1=\"14\" x2=\"238\" y2=\"14\" />\n",
              "  <line x1=\"119\" y1=\"15\" x2=\"239\" y2=\"15\" />\n",
              "  <line x1=\"120\" y1=\"16\" x2=\"240\" y2=\"16\" />\n",
              "  <line x1=\"121\" y1=\"17\" x2=\"241\" y2=\"17\" />\n",
              "  <line x1=\"121\" y1=\"17\" x2=\"241\" y2=\"17\" />\n",
              "  <line x1=\"122\" y1=\"18\" x2=\"242\" y2=\"18\" />\n",
              "  <line x1=\"123\" y1=\"19\" x2=\"243\" y2=\"19\" />\n",
              "  <line x1=\"123\" y1=\"19\" x2=\"243\" y2=\"19\" />\n",
              "  <line x1=\"124\" y1=\"20\" x2=\"244\" y2=\"20\" />\n",
              "  <line x1=\"125\" y1=\"21\" x2=\"245\" y2=\"21\" />\n",
              "  <line x1=\"126\" y1=\"22\" x2=\"246\" y2=\"22\" />\n",
              "  <line x1=\"126\" y1=\"22\" x2=\"246\" y2=\"22\" />\n",
              "  <line x1=\"127\" y1=\"23\" x2=\"247\" y2=\"23\" style=\"stroke-width:2\" />\n",
              "\n",
              "  <!-- Vertical lines -->\n",
              "  <line x1=\"104\" y1=\"0\" x2=\"127\" y2=\"23\" style=\"stroke-width:2\" />\n",
              "  <line x1=\"194\" y1=\"0\" x2=\"217\" y2=\"23\" />\n",
              "  <line x1=\"224\" y1=\"0\" x2=\"247\" y2=\"23\" style=\"stroke-width:2\" />\n",
              "\n",
              "  <!-- Colored Rectangle -->\n",
              "  <polygon points=\"104.0,0.0 224.0,0.0 247.79431627014685,23.79431627014685 127.79431627014685,23.79431627014685\" style=\"fill:#8B4903A0;stroke-width:0\"/>\n",
              "\n",
              "  <!-- Horizontal lines -->\n",
              "  <line x1=\"127\" y1=\"23\" x2=\"247\" y2=\"23\" style=\"stroke-width:2\" />\n",
              "  <line x1=\"127\" y1=\"84\" x2=\"247\" y2=\"84\" style=\"stroke-width:2\" />\n",
              "\n",
              "  <!-- Vertical lines -->\n",
              "  <line x1=\"127\" y1=\"23\" x2=\"127\" y2=\"84\" style=\"stroke-width:2\" />\n",
              "  <line x1=\"217\" y1=\"23\" x2=\"217\" y2=\"84\" />\n",
              "  <line x1=\"247\" y1=\"23\" x2=\"247\" y2=\"84\" style=\"stroke-width:2\" />\n",
              "\n",
              "  <!-- Colored Rectangle -->\n",
              "  <polygon points=\"127.79431627014685,23.79431627014685 247.79431627014685,23.79431627014685 247.79431627014685,84.36658332810723 127.79431627014685,84.36658332810723\" style=\"fill:#ECB172A0;stroke-width:0\"/>\n",
              "\n",
              "  <!-- Text -->\n",
              "  <text x=\"187.794316\" y=\"104.366583\" font-size=\"1.0rem\" font-weight=\"100\" text-anchor=\"middle\" >1363</text>\n",
              "  <text x=\"267.794316\" y=\"54.080450\" font-size=\"1.0rem\" font-weight=\"100\" text-anchor=\"middle\" transform=\"rotate(-90,267.794316,54.080450)\">688</text>\n",
              "  <text x=\"105.897158\" y=\"92.469425\" font-size=\"1.0rem\" font-weight=\"100\" text-anchor=\"middle\" transform=\"rotate(45,105.897158,92.469425)\">194</text>\n",
              "</svg>\n",
              "        </td>\n",
              "    </tr>\n",
              "</table>"
            ]
          },
          "metadata": {},
          "execution_count": 5
        }
      ]
    },
    {
      "cell_type": "code",
      "source": [
        "import requests\n",
        "response = requests.get(\"https://lsp-public-data.s3.amazonaws.com/yapp-2023-3d-melanoma/Dataset1-LSP13626-melanoma-in-situ/OME/METADATA.ome.xml\")\n",
        "data = response.text\n",
        "ome_xml = ome_types.from_xml(response.text.replace(\"Â\",\"\"))\n",
        "channel_names = [c.name for c in ome_xml.images[0].pixels.channels]\n",
        "# Listing all the Channels in the Volume\n",
        "channel_names"
      ],
      "metadata": {
        "colab": {
          "base_uri": "https://localhost:8080/"
        },
        "id": "Pr9vDrr3mTqx",
        "outputId": "36a9e9e3-e0db-4305-c86e-4e7e361e9a68"
      },
      "execution_count": null,
      "outputs": [
        {
          "output_type": "execute_result",
          "data": {
            "text/plain": [
              "['Hoechst',\n",
              " \"5'hmC\",\n",
              " 'MX1',\n",
              " 'MART1',\n",
              " 'Hoechst',\n",
              " 'CD3E (do not use)',\n",
              " 'MHC-I',\n",
              " 'SOX10',\n",
              " 'Hoechst',\n",
              " 'S100B',\n",
              " 'MITF',\n",
              " 'GranzymeB (do not use)',\n",
              " 'Hoechst',\n",
              " 'pan-cytokeratin',\n",
              " 'lamin-ABC',\n",
              " 'PDL1',\n",
              " 'Hoechst',\n",
              " 'PD1 (do not use)',\n",
              " 'S100A',\n",
              " 'CD31',\n",
              " 'Hoechst',\n",
              " 'CD206',\n",
              " 'pMLC2',\n",
              " 'CD11b (do not use)',\n",
              " 'Hoechst',\n",
              " 'CD4',\n",
              " 'LAG3',\n",
              " 'CD20',\n",
              " 'Hoechst',\n",
              " 'PRAME',\n",
              " 'CD163',\n",
              " 'IRF1',\n",
              " 'Hoechst',\n",
              " 'B-catenin',\n",
              " 'CD3E',\n",
              " 'CD8a',\n",
              " 'Hoechst',\n",
              " 'CD11b',\n",
              " 'FOXP3',\n",
              " 'PD1',\n",
              " 'Hoechst',\n",
              " 'Ki67',\n",
              " 'CD11c',\n",
              " 'COX-IV',\n",
              " 'Hoechst',\n",
              " 'LysozymeC',\n",
              " 'SOX9',\n",
              " 'PMEL',\n",
              " 'CD103',\n",
              " 'Hoechst',\n",
              " 'CyclinD1',\n",
              " 'BAF1',\n",
              " 'Hoechst',\n",
              " 'B-actin',\n",
              " 'Mast cell tryptase',\n",
              " 'CD15',\n",
              " 'Podoplanin',\n",
              " 'Hoechst',\n",
              " 'B-tubulin',\n",
              " 'Catalase',\n",
              " 'y-H2AX',\n",
              " 'Hoechst',\n",
              " 'E-cadherin',\n",
              " 'Vimentin',\n",
              " 'Neurofilament L (do not use)',\n",
              " 'GranzymeB',\n",
              " 'Hoechst',\n",
              " 'MHC-II',\n",
              " 'H3K27me3',\n",
              " 'Collagen (SHG)']"
            ]
          },
          "metadata": {},
          "execution_count": 6
        }
      ]
    },
    {
      "cell_type": "code",
      "source": [
        "# Reading the Physical Size of the Sample\n",
        "ome_xml.images[0].pixels.physical_size_x, ome_xml.images[0].pixels.physical_size_y, ome_xml.images[0].pixels.physical_size_z"
      ],
      "metadata": {
        "colab": {
          "base_uri": "https://localhost:8080/"
        },
        "id": "W0qZSMuopjZ7",
        "outputId": "a60d9d3d-c88b-47a3-b46a-42b9249c2214"
      },
      "execution_count": null,
      "outputs": [
        {
          "output_type": "execute_result",
          "data": {
            "text/plain": [
              "(0.13999999999999999, 0.14, 0.28)"
            ]
          },
          "metadata": {},
          "execution_count": 7
        }
      ]
    },
    {
      "cell_type": "code",
      "source": [
        "# Getting the data from Channel CD31:\n",
        "data = daskArray[0,19,:,:,:].compute()\n",
        "data.shape"
      ],
      "metadata": {
        "colab": {
          "base_uri": "https://localhost:8080/",
          "height": 184
        },
        "id": "zfBBFGDGo2jY",
        "outputId": "f535dbe4-a64c-4c2f-9086-d6d4dcb44c60"
      },
      "execution_count": null,
      "outputs": [
        {
          "output_type": "error",
          "ename": "NameError",
          "evalue": "name 'daskArray' is not defined",
          "traceback": [
            "\u001b[0;31m---------------------------------------------------------------------------\u001b[0m",
            "\u001b[0;31mNameError\u001b[0m                                 Traceback (most recent call last)",
            "\u001b[0;32m<ipython-input-1-2824172240>\u001b[0m in \u001b[0;36m<cell line: 0>\u001b[0;34m()\u001b[0m\n\u001b[1;32m      1\u001b[0m \u001b[0;31m# Getting the data from Channel CD31:\u001b[0m\u001b[0;34m\u001b[0m\u001b[0;34m\u001b[0m\u001b[0m\n\u001b[0;32m----> 2\u001b[0;31m \u001b[0mdata\u001b[0m \u001b[0;34m=\u001b[0m \u001b[0mdaskArray\u001b[0m\u001b[0;34m[\u001b[0m\u001b[0;36m0\u001b[0m\u001b[0;34m,\u001b[0m\u001b[0;36m19\u001b[0m\u001b[0;34m,\u001b[0m\u001b[0;34m:\u001b[0m\u001b[0;34m,\u001b[0m\u001b[0;34m:\u001b[0m\u001b[0;34m,\u001b[0m\u001b[0;34m:\u001b[0m\u001b[0;34m]\u001b[0m\u001b[0;34m.\u001b[0m\u001b[0mcompute\u001b[0m\u001b[0;34m(\u001b[0m\u001b[0;34m)\u001b[0m\u001b[0;34m\u001b[0m\u001b[0;34m\u001b[0m\u001b[0m\n\u001b[0m\u001b[1;32m      3\u001b[0m \u001b[0mdata\u001b[0m\u001b[0;34m.\u001b[0m\u001b[0mshape\u001b[0m\u001b[0;34m\u001b[0m\u001b[0;34m\u001b[0m\u001b[0m\n",
            "\u001b[0;31mNameError\u001b[0m: name 'daskArray' is not defined"
          ]
        }
      ]
    },
    {
      "cell_type": "markdown",
      "metadata": {
        "id": "aTSeMlreTuNH"
      },
      "source": [
        "# Visualization of volumetric imaging data\n"
      ]
    },
    {
      "cell_type": "markdown",
      "source": [
        "Importing the necessary libraries:"
      ],
      "metadata": {
        "id": "Y1CupRheCGiD"
      }
    },
    {
      "cell_type": "code",
      "execution_count": null,
      "metadata": {
        "id": "ORptAfVHTuNI"
      },
      "outputs": [],
      "source": [
        "from vitessce import (\n",
        "    VitessceConfig,\n",
        "    CoordinationLevel as CL,\n",
        "    get_initial_coordination_scope_prefix,\n",
        ")\n",
        "from os.path import join\n",
        "import ipywidgets"
      ]
    },
    {
      "cell_type": "markdown",
      "metadata": {
        "id": "lc0hKIOeTuNJ"
      },
      "source": [
        "## Getting a first view of the Data:"
      ]
    },
    {
      "cell_type": "code",
      "source": [
        "vc = VitessceConfig(schema_version=\"1.0.16\", name=\"BioMedVis Challenge\")\n",
        "dataset = vc.add_dataset(name=\"Blood Vessel\", uid=\"bv\").add_file(\n",
        "    url=\"https://lsp-public-data.s3.amazonaws.com/yapp-2023-3d-melanoma/Dataset1-LSP13626-melanoma-in-situ/0\",\n",
        "    file_type=\"image.ome-zarr\"\n",
        ")\n",
        "\n",
        "spatial = vc.add_view(\"spatialBeta\", dataset=dataset)\n",
        "lc = vc.add_view(\"layerControllerBeta\", dataset=dataset)\n",
        "\n",
        "#Spatial Target X,Y,Z are used for translating the viewpoint to a certain point in the volume\n",
        "#These coordiantes are given in the best resolution level\n",
        "vc.link_views_by_dict([spatial, lc], {\n",
        "    \"spatialTargetZ\": 0,\n",
        "    \"spatialTargetT\": 0,\n",
        "    \"spatialZoom\": -3.54,\n",
        "    \"spatialTargetX\": 5230,\n",
        "    \"spatialTargetY\": 2880,\n",
        "    \"spatialTargetZ\": 0,\n",
        "    \"spatialRenderingMode\": \"3D\",\n",
        "    \"imageLayer\": CL([\n",
        "      {\n",
        "        \"spatialTargetResolution\": 3,\n",
        "        \"spatialLayerOpacity\": 1.0,\n",
        "        \"spatialLayerVisible\": True,\n",
        "        \"photometricInterpretation\": \"BlackIsZero\",\n",
        "        \"imageChannel\": CL([\n",
        "          {\n",
        "            \"spatialTargetC\": 0,\n",
        "            \"spatialChannelColor\": [255, 255,255],\n",
        "            \"spatialChannelVisible\": True,\n",
        "            \"spatialChannelOpacity\": 1.0,\n",
        "          }])\n",
        "      }\n",
        "    ])\n",
        "}, meta=True, scope_prefix=get_initial_coordination_scope_prefix(\"bv\", \"image\"))\n",
        "\n",
        "vc.layout(spatial | lc);\n",
        "vw = vc.widget(js_package_version=\"3.4.5\", remount_on_uid_change=False)\n",
        "vw"
      ],
      "metadata": {
        "colab": {
          "base_uri": "https://localhost:8080/",
          "height": 617,
          "referenced_widgets": [
            "ac623cce368d4cfba3f8e25b615c1322",
            "54b1b2e1d35b4330b7e23871a32070c2"
          ]
        },
        "id": "YXm1eQVNAuo0",
        "outputId": "4b6bef79-2945-41f7-a34f-ddaab599ab6d"
      },
      "execution_count": null,
      "outputs": [
        {
          "output_type": "display_data",
          "data": {
            "text/plain": [
              "VitessceWidget(config={'version': '1.0.16', 'name': 'BioMedVis Challenge', 'description': '', 'datasets': [{'u…"
            ],
            "application/vnd.jupyter.widget-view+json": {
              "version_major": 2,
              "version_minor": 0,
              "model_id": "ac623cce368d4cfba3f8e25b615c1322"
            }
          },
          "metadata": {
            "application/vnd.jupyter.widget-view+json": {
              "colab": {
                "custom_widget_manager": {
                  "url": "https://ssl.gstatic.com/colaboratory-static/widgets/colab-cdn-widget-manager/2b70e893a8ba7c0f/manager.min.js"
                }
              }
            }
          }
        }
      ]
    },
    {
      "cell_type": "markdown",
      "source": [
        "# Visualizing Regions of Interest (ROI)"
      ],
      "metadata": {
        "id": "GxUTC6DnCA9A"
      }
    },
    {
      "cell_type": "markdown",
      "source": [
        "Based on the prior analysis we can define a viewpoint showing an area of interest based on prior analysis in: https://doi.org/10.1101/2023.11.10.566670"
      ],
      "metadata": {
        "id": "0qifNu8JAyjE"
      }
    },
    {
      "cell_type": "code",
      "execution_count": null,
      "metadata": {
        "id": "66g2o2I2TuNJ",
        "colab": {
          "base_uri": "https://localhost:8080/",
          "height": 617,
          "referenced_widgets": [
            "eb9c483cf8de479cbd2a750e35673ccb",
            "39f16ab34a0e4fcf9ed7eb3cd2fd37e3"
          ]
        },
        "outputId": "2c0b1470-341b-4d75-d0dc-5e5c9471d8fc"
      },
      "outputs": [
        {
          "output_type": "display_data",
          "data": {
            "text/plain": [
              "VitessceWidget(config={'version': '1.0.16', 'name': 'BioMedVis Challenge', 'description': '', 'datasets': [{'u…"
            ],
            "application/vnd.jupyter.widget-view+json": {
              "version_major": 2,
              "version_minor": 0,
              "model_id": "eb9c483cf8de479cbd2a750e35673ccb"
            }
          },
          "metadata": {
            "application/vnd.jupyter.widget-view+json": {
              "colab": {
                "custom_widget_manager": {
                  "url": "https://ssl.gstatic.com/colaboratory-static/widgets/colab-cdn-widget-manager/2b70e893a8ba7c0f/manager.min.js"
                }
              }
            }
          }
        }
      ],
      "source": [
        "vc = VitessceConfig(schema_version=\"1.0.16\", name=\"BioMedVis Challenge\")\n",
        "dataset = vc.add_dataset(name=\"Blood Vessel\", uid=\"bv\").add_file(\n",
        "    url=\"https://lsp-public-data.s3.amazonaws.com/yapp-2023-3d-melanoma/Dataset1-LSP13626-melanoma-in-situ/0\",\n",
        "    file_type=\"image.ome-zarr\"\n",
        ")\n",
        "\n",
        "spatial = vc.add_view(\"spatialBeta\", dataset=dataset)\n",
        "lc = vc.add_view(\"layerControllerBeta\", dataset=dataset)\n",
        "\n",
        "#Spatial Target X,Y,Z are used for translating the viewpoint to a certain point in the volume\n",
        "#These coordiantes are given in the best resolution level\n",
        "vc.link_views_by_dict([spatial, lc], {\n",
        "    \"spatialTargetZ\": 0,\n",
        "    \"spatialTargetT\": 0,\n",
        "    \"spatialZoom\": -1.1,\n",
        "    \"spatialTargetX\": 2914,\n",
        "    \"spatialTargetY\": 1267,\n",
        "    \"spatialTargetZ\": 0,\n",
        "    \"spatialRenderingMode\": \"3D\",\n",
        "    \"imageLayer\": CL([\n",
        "      {\n",
        "        \"spatialTargetResolution\": 3,\n",
        "        \"spatialLayerOpacity\": 1.0,\n",
        "        \"spatialLayerVisible\": True,\n",
        "        \"photometricInterpretation\": \"BlackIsZero\",\n",
        "        \"imageChannel\": CL([\n",
        "          {\n",
        "            \"spatialTargetC\": 9,\n",
        "            \"spatialChannelColor\": [255, 125, 0],\n",
        "            \"spatialChannelVisible\": True,\n",
        "            \"spatialChannelOpacity\": 1.0,\n",
        "            \"spatialChannelWindow\": [0,9486]\n",
        "          },\n",
        "          {\n",
        "            \"spatialTargetC\": 19,\n",
        "            \"spatialChannelColor\": [0, 255, 0],\n",
        "            \"spatialChannelVisible\": True,\n",
        "            \"spatialChannelOpacity\": 1.0,\n",
        "            \"spatialChannelWindow\": [666,21313]\n",
        "          },\n",
        "          {\n",
        "            \"spatialTargetC\": 69,\n",
        "            \"spatialChannelColor\": [255, 255, 0],\n",
        "            \"spatialChannelVisible\": True,\n",
        "            \"spatialChannelOpacity\": 1.0,\n",
        "            \"spatialChannelWindow\": [6,34]\n",
        "          },\n",
        "          {\n",
        "            \"spatialTargetC\": 21,\n",
        "            \"spatialChannelColor\": [255, 0, 0],\n",
        "            \"spatialChannelVisible\": True,\n",
        "            \"spatialChannelOpacity\": 1.0,\n",
        "            \"spatialChannelWindow\": [1638,36287]\n",
        "          },\n",
        "        ]),\n",
        "      }\n",
        "    ])\n",
        "}, meta=True, scope_prefix=get_initial_coordination_scope_prefix(\"bv\", \"image\"))\n",
        "\n",
        "vc.layout(spatial | lc);\n",
        "\n",
        "vw = vc.widget(js_package_version=\"3.4.5\", remount_on_uid_change=False)\n",
        "vw"
      ]
    },
    {
      "cell_type": "code",
      "source": [
        "vc = VitessceConfig(schema_version=\"1.0.16\", name=\"BioMedVis Challenge\")\n",
        "dataset = vc.add_dataset(name=\"Blood Vessel\", uid=\"bv\").add_file(\n",
        "    url=\"https://lsp-public-data.s3.amazonaws.com/yapp-2023-3d-melanoma/Dataset1-LSP13626-melanoma-in-situ/0\",\n",
        "    file_type=\"image.ome-zarr\"\n",
        ")\n",
        "\n",
        "spatial = vc.add_view(\"spatialBeta\", dataset=dataset)\n",
        "lc = vc.add_view(\"layerControllerBeta\", dataset=dataset)\n",
        "\n",
        "#Spatial Target X,Y,Z are used for translating the viewpoint to a certain point in the volume\n",
        "#These coordiantes are given in the best resolution level\n",
        "vc.link_views_by_dict([spatial, lc], {\n",
        "    \"spatialTargetZ\": 0,\n",
        "    \"spatialTargetT\": 0,\n",
        "    \"spatialZoom\":  -1.91661,\n",
        "    \"spatialTargetX\": 5254,\n",
        "    \"spatialTargetY\": 2834,\n",
        "    \"spatialTargetZ\": 0,\n",
        "    \"spatialRenderingMode\": \"3D\",\n",
        "    \"imageLayer\": CL([\n",
        "      {\n",
        "        \"spatialTargetResolution\": 3,\n",
        "        \"spatialLayerOpacity\": 1.0,\n",
        "        \"spatialLayerVisible\": True,\n",
        "        \"photometricInterpretation\": \"BlackIsZero\",\n",
        "        \"imageChannel\": CL([\n",
        "          {\n",
        "            \"spatialTargetC\": 9,\n",
        "            \"spatialChannelColor\": [255, 125,0],\n",
        "            \"spatialChannelVisible\": True,\n",
        "            \"spatialChannelOpacity\": 1.0,\n",
        "            \"spatialChannelWindow\": [0,9486]\n",
        "          },\n",
        "          {\n",
        "            \"spatialTargetC\": 19,\n",
        "            \"spatialChannelColor\": [0, 0,255],\n",
        "            \"spatialChannelVisible\": True,\n",
        "            \"spatialChannelOpacity\": 1.0,\n",
        "            \"spatialChannelWindow\": [888,6882]\n",
        "          },\n",
        "          {\n",
        "            \"spatialTargetC\": 69,\n",
        "            \"spatialChannelColor\": [255, 255, 0],\n",
        "            \"spatialChannelVisible\": True,\n",
        "            \"spatialChannelOpacity\": 1.0,\n",
        "            \"spatialChannelWindow\": [6,34]\n",
        "          },\n",
        "          {\n",
        "            \"spatialTargetC\": 21,\n",
        "            \"spatialChannelColor\": [255, 0,0],\n",
        "            \"spatialChannelVisible\": True,\n",
        "            \"spatialChannelOpacity\": 1.0,\n",
        "            \"spatialChannelWindow\": [0,6552]\n",
        "          },\n",
        "          {\n",
        "            \"spatialTargetC\": 29,\n",
        "            \"spatialChannelColor\": [255,0,255],\n",
        "            \"spatialChannelVisible\": True,\n",
        "            \"spatialChannelOpacity\": 1.0,\n",
        "            \"spatialChannelWindow\": [475,2983]\n",
        "          },\n",
        "          {\n",
        "            \"spatialTargetC\": 3,\n",
        "            \"spatialChannelColor\": [0, 255,0],\n",
        "            \"spatialChannelVisible\": True,\n",
        "            \"spatialChannelOpacity\": 1.0,\n",
        "            \"spatialChannelWindow\": [1287,14825]\n",
        "          },\n",
        "        ]),\n",
        "      }\n",
        "    ])\n",
        "}, meta=True, scope_prefix=get_initial_coordination_scope_prefix(\"bv\", \"image\"))\n",
        "\n",
        "vc.layout(spatial | lc);\n",
        "vw = vc.widget(js_package_version=\"3.4.5\", remount_on_uid_change=False)\n",
        "vw"
      ],
      "metadata": {
        "colab": {
          "base_uri": "https://localhost:8080/",
          "height": 617,
          "referenced_widgets": [
            "0d20aa17c11049e595e51e9c2519dcee",
            "ee6efb215d3a430da9fee2394d04c677"
          ]
        },
        "id": "tDTgkRMFGjca",
        "outputId": "27dbfe35-b45e-4e4f-ea79-c59b1e03ce8b"
      },
      "execution_count": null,
      "outputs": [
        {
          "output_type": "display_data",
          "data": {
            "text/plain": [
              "VitessceWidget(config={'version': '1.0.16', 'name': 'BioMedVis Challenge', 'description': '', 'datasets': [{'u…"
            ],
            "application/vnd.jupyter.widget-view+json": {
              "version_major": 2,
              "version_minor": 0,
              "model_id": "0d20aa17c11049e595e51e9c2519dcee"
            }
          },
          "metadata": {
            "application/vnd.jupyter.widget-view+json": {
              "colab": {
                "custom_widget_manager": {
                  "url": "https://ssl.gstatic.com/colaboratory-static/widgets/colab-cdn-widget-manager/2b70e893a8ba7c0f/manager.min.js"
                }
              }
            }
          }
        }
      ]
    },
    {
      "cell_type": "markdown",
      "source": [
        "# Reading Visualization Parameters:"
      ],
      "metadata": {
        "id": "XPQt_AS1BEzk"
      }
    },
    {
      "cell_type": "code",
      "source": [
        "vw.config[\"coordinationSpace\"][\"spatialTargetX\"]"
      ],
      "metadata": {
        "colab": {
          "base_uri": "https://localhost:8080/"
        },
        "id": "8NsrGQ49Z72Y",
        "outputId": "d9483162-e466-4f57-d31d-b94d522e0c3b"
      },
      "execution_count": null,
      "outputs": [
        {
          "output_type": "execute_result",
          "data": {
            "text/plain": [
              "{'init_bv_image_0': 5800.449601795684, 'A': None}"
            ]
          },
          "metadata": {},
          "execution_count": 17
        }
      ]
    },
    {
      "cell_type": "code",
      "source": [
        "vw.config[\"coordinationSpace\"][\"spatialTargetY\"]"
      ],
      "metadata": {
        "colab": {
          "base_uri": "https://localhost:8080/"
        },
        "id": "RvPDrfneaBUj",
        "outputId": "0c3422fe-8549-49ff-d3b6-6fb86fc4215a"
      },
      "execution_count": null,
      "outputs": [
        {
          "output_type": "execute_result",
          "data": {
            "text/plain": [
              "{'init_bv_image_0': 2834}"
            ]
          },
          "metadata": {},
          "execution_count": 14
        }
      ]
    },
    {
      "cell_type": "code",
      "source": [
        "vw.config[\"coordinationSpace\"][\"spatialTargetZ\"]"
      ],
      "metadata": {
        "colab": {
          "base_uri": "https://localhost:8080/"
        },
        "id": "D9_nORLcaCs1",
        "outputId": "c5f7634c-ffcb-4135-b9f4-36847124e884"
      },
      "execution_count": null,
      "outputs": [
        {
          "output_type": "execute_result",
          "data": {
            "text/plain": [
              "{'init_bv_image_0': 0}"
            ]
          },
          "metadata": {},
          "execution_count": 15
        }
      ]
    },
    {
      "cell_type": "code",
      "source": [
        "vw.config[\"coordinationSpace\"][\"spatialZoom\"]"
      ],
      "metadata": {
        "id": "wZ5JRkVhaDgG",
        "colab": {
          "base_uri": "https://localhost:8080/"
        },
        "outputId": "1420cdb0-aae9-4843-e65b-0d1ad72b4923"
      },
      "execution_count": null,
      "outputs": [
        {
          "output_type": "execute_result",
          "data": {
            "text/plain": [
              "{'init_bv_image_0': -1.91661}"
            ]
          },
          "metadata": {},
          "execution_count": 16
        }
      ]
    },
    {
      "cell_type": "code",
      "source": [],
      "metadata": {
        "id": "Pdx7LJwdB1Jp"
      },
      "execution_count": null,
      "outputs": []
    }
  ],
  "metadata": {
    "kernelspec": {
      "display_name": "Python 3 (ipykernel)",
      "language": "python",
      "name": "python3"
    },
    "language_info": {
      "codemirror_mode": {
        "name": "ipython",
        "version": 3
      },
      "file_extension": ".py",
      "mimetype": "text/x-python",
      "name": "python",
      "nbconvert_exporter": "python",
      "pygments_lexer": "ipython3",
      "version": "3.11.7"
    },
    "colab": {
      "provenance": [],
      "collapsed_sections": [
        "pZ0NXwtIZGW2",
        "TlV6TGTmZMne"
      ],
      "include_colab_link": true
    },
    "widgets": {
      "application/vnd.jupyter.widget-state+json": {
        "ac623cce368d4cfba3f8e25b615c1322": {
          "model_module": "anywidget",
          "model_name": "AnyModel",
          "model_module_version": "~0.9.*",
          "state": {
            "_anywidget_id": "vitessce.widget.VitessceWidget",
            "_dom_classes": [],
            "_esm": "\nimport { importWithMap } from 'https://unpkg.com/dynamic-importmap@0.1.0';\nconst importMap = {\n  imports: {\n    \"react\": \"https://esm.sh/react@18.2.0?dev\",\n    \"react-dom\": \"https://esm.sh/react-dom@18.2.0?dev\",\n    \"react-dom/client\": \"https://esm.sh/react-dom@18.2.0/client?dev\",\n  },\n};\n\nconst React = await importWithMap(\"react\", importMap);\nconst { createRoot } = await importWithMap(\"react-dom/client\", importMap);\n\nconst e = React.createElement;\n\nconst prefersDark = window.matchMedia && window.matchMedia('(prefers-color-scheme: dark)').matches;\n\n// The jupyter server may be running through a proxy,\n// which means that the client needs to prepend the part of the URL before /proxy/8000 such as\n// https://hub.gke2.mybinder.org/user/vitessce-vitessce-python-swi31vcv/proxy/8000/A/0/cells\nfunction prependBaseUrl(config, proxy, hasHostName) {\n  if(!proxy || hasHostName) {\n    return config;\n  }\n  const { origin } = new URL(window.location.href);\n  let baseUrl;\n  const jupyterLabConfigEl = document.getElementById('jupyter-config-data');\n\n  if (jupyterLabConfigEl) {\n    // This is jupyter lab\n    baseUrl = JSON.parse(jupyterLabConfigEl.textContent || '').baseUrl;\n  } else {\n    // This is jupyter notebook\n    baseUrl = document.getElementsByTagName('body')[0].getAttribute('data-base-url');\n  }\n  return {\n    ...config,\n    datasets: config.datasets.map(d => ({\n      ...d,\n      files: d.files.map(f => ({\n        ...f,\n        url: `${origin}${baseUrl}${f.url}`,\n      })),\n    })),\n  };\n}\n\nasync function render(view) {\n    const cssUid = view.model.get('uid');\n    const jsDevMode = view.model.get('js_dev_mode');\n    const jsPackageVersion = view.model.get('js_package_version');\n    const customJsUrl = view.model.get('custom_js_url');\n    const pluginEsmArr = view.model.get('plugin_esm');\n    const remountOnUidChange = view.model.get('remount_on_uid_change');\n    const storeUrls = view.model.get('store_urls');\n    const invokeTimeout = view.model.get('invoke_timeout');\n\n    const pkgName = (jsDevMode ? \"@vitessce/dev\" : \"vitessce\");\n\n    importMap.imports[\"vitessce\"] = (customJsUrl.length > 0\n        ? customJsUrl\n        : `https://unpkg.com/${pkgName}@${jsPackageVersion}`\n    );\n\n    const {\n        Vitessce,\n        PluginFileType,\n        PluginViewType,\n        PluginCoordinationType,\n        PluginJointFileType,\n        z,\n        useCoordination,\n        useGridItemSize,\n        // TODO: names and function signatures are subject to change for the following functions\n        // Reference: https://github.com/keller-mark/use-coordination/issues/37#issuecomment-1946226827\n        useComplexCoordination,\n        useMultiCoordinationScopesNonNull,\n        useMultiCoordinationScopesSecondaryNonNull,\n        useComplexCoordinationSecondary,\n        useCoordinationScopes,\n        useCoordinationScopesBy,\n    } = await importWithMap(\"vitessce\", importMap);\n\n    let pluginViewTypes = [];\n    let pluginCoordinationTypes = [];\n    let pluginFileTypes = [];\n    let pluginJointFileTypes = [];\n\n    const stores = Object.fromEntries(\n        storeUrls.map(storeUrl => ([\n            storeUrl,\n            {\n                async get(key) {\n                    const [data, buffers] = await view.experimental.invoke(\"_zarr_get\", [storeUrl, key], {\n                        signal: AbortSignal.timeout(invokeTimeout),\n                    });\n                    if (!data.success) return undefined;\n                    return buffers[0].buffer;\n                },\n            }\n        ])),\n    );\n\n    function invokePluginCommand(commandName, commandParams, commandBuffers) {\n        return view.experimental.invoke(\"_plugin_command\", [commandName, commandParams], {\n            signal: AbortSignal.timeout(invokeTimeout),\n            ...(commandBuffers ? { buffers: commandBuffers } : {}),\n        });\n    }\n\n    for (const pluginEsm of pluginEsmArr) {\n        try {\n            const pluginEsmUrl = URL.createObjectURL(new Blob([pluginEsm], { type: \"text/javascript\" }));\n            const pluginModule = (await import(pluginEsmUrl)).default;\n            URL.revokeObjectURL(pluginEsmUrl);\n\n            const pluginsObj = await pluginModule.createPlugins({\n                React,\n                PluginFileType,\n                PluginViewType,\n                PluginCoordinationType,\n                PluginJointFileType,\n                z,\n                invokeCommand: invokePluginCommand,\n                useCoordination,\n                useGridItemSize,\n                useComplexCoordination,\n                useMultiCoordinationScopesNonNull,\n                useMultiCoordinationScopesSecondaryNonNull,\n                useComplexCoordinationSecondary,\n                useCoordinationScopes,\n                useCoordinationScopesBy,\n            });\n            if(Array.isArray(pluginsObj.pluginViewTypes)) {\n                pluginViewTypes = [...pluginViewTypes, ...pluginsObj.pluginViewTypes];\n            }\n            if(Array.isArray(pluginsObj.pluginCoordinationTypes)) {\n                pluginCoordinationTypes = [...pluginCoordinationTypes, ...pluginsObj.pluginCoordinationTypes];\n            }\n            if(Array.isArray(pluginsObj.pluginFileTypes)) {\n                pluginFileTypes = [...pluginFileTypes, ...pluginsObj.pluginFileTypes];\n            }\n            if(Array.isArray(pluginsObj.pluginJointFileTypes)) {\n                pluginJointFileTypes = [...pluginJointFileTypes, ...pluginsObj.pluginJointFileTypes];\n            }\n        } catch(e) {\n            console.error(e);\n        }\n    }\n\n    function VitessceWidget(props) {\n        const { model } = props;\n\n        const [config, setConfig] = React.useState(prependBaseUrl(model.get('config'), model.get('proxy'), model.get('has_host_name')));\n        const [validateConfig, setValidateConfig] = React.useState(true);\n        const height = model.get('height');\n        const theme = model.get('theme') === 'auto' ? (prefersDark ? 'dark' : 'light') : model.get('theme');\n\n        const divRef = React.useRef();\n\n        React.useEffect(() => {\n            if(!divRef.current) {\n                return () => {};\n            }\n\n            function handleMouseEnter() {\n                const jpn = divRef.current.closest('.jp-Notebook');\n                if(jpn) {\n                    jpn.style.overflow = \"hidden\";\n                }\n            }\n            function handleMouseLeave(event) {\n                if(event.relatedTarget === null || (event.relatedTarget && event.relatedTarget.closest('.jp-Notebook')?.length)) return;\n                const jpn = divRef.current.closest('.jp-Notebook');\n                if(jpn) {\n                    jpn.style.overflow = \"auto\";\n                }\n            }\n            divRef.current.addEventListener(\"mouseenter\", handleMouseEnter);\n            divRef.current.addEventListener(\"mouseleave\", handleMouseLeave);\n\n            return () => {\n                if(divRef.current) {\n                    divRef.current.removeEventListener(\"mouseenter\", handleMouseEnter);\n                    divRef.current.removeEventListener(\"mouseleave\", handleMouseLeave);\n                }\n            };\n        }, [divRef]);\n\n        // Config changed on JS side (from within <Vitessce/>),\n        // send updated config to Python side.\n        const onConfigChange = React.useCallback((config) => {\n            model.set('config', config);\n            setValidateConfig(false);\n            model.save_changes();\n        }, [model]);\n\n        // Config changed on Python side,\n        // pass to <Vitessce/> component to it is updated on JS side.\n        React.useEffect(() => {\n            model.on('change:config', () => {\n                const newConfig = prependBaseUrl(model.get('config'), model.get('proxy'), model.get('has_host_name'));\n\n                // Force a re-render and re-validation by setting a new config.uid value.\n                // TODO: make this conditional on a parameter from Python.\n                //newConfig.uid = `random-${Math.random()}`;\n                //console.log('newConfig', newConfig);\n                setConfig(newConfig);\n            });\n        }, []);\n\n        const vitessceProps = {\n            height, theme, config, onConfigChange, validateConfig,\n            pluginViewTypes, pluginCoordinationTypes, pluginFileTypes, pluginJointFileTypes,\n            remountOnUidChange, stores,\n        };\n\n        return e('div', { ref: divRef, style: { height: height + 'px' } },\n            e(React.Suspense, { fallback: e('div', {}, 'Loading...') },\n                e(React.StrictMode, {},\n                    e(Vitessce, vitessceProps)\n                ),\n            ),\n        );\n    }\n\n    const root = createRoot(view.el);\n    root.render(e(VitessceWidget, { model: view.model }));\n\n    return () => {\n        // Re-enable scrolling.\n        const jpn = view.el.closest('.jp-Notebook');\n        if(jpn) {\n            jpn.style.overflow = \"auto\";\n        }\n\n        // Clean up React and DOM state.\n        root.unmount();\n        if(view._isFromDisplay) {\n            view.el.remove();\n        }\n    };\n}\nexport default { render };\n",
            "_model_module": "anywidget",
            "_model_module_version": "~0.9.*",
            "_model_name": "AnyModel",
            "_view_count": null,
            "_view_module": "anywidget",
            "_view_module_version": "~0.9.*",
            "_view_name": "AnyView",
            "config": {
              "version": "1.0.16",
              "name": "BioMedVis Challenge",
              "description": "",
              "datasets": [
                {
                  "uid": "bv",
                  "name": "Blood Vessel",
                  "files": [
                    {
                      "fileType": "image.ome-zarr",
                      "url": "https://lsp-public-data.s3.amazonaws.com/yapp-2023-3d-melanoma/Dataset1-LSP13626-melanoma-in-situ/0"
                    }
                  ]
                }
              ],
              "coordinationSpace": {
                "metaCoordinationScopes": {
                  "init_bv_image_0": {
                    "spatialImageLayer": "init_bv_image_0",
                    "spatialTargetZ": "init_bv_image_0",
                    "spatialTargetT": "init_bv_image_0",
                    "imageLayer": [
                      "init_bv_image_0"
                    ],
                    "spatialZoom": "init_bv_image_0",
                    "spatialTargetX": "init_bv_image_0",
                    "spatialTargetY": "init_bv_image_0",
                    "spatialRenderingMode": "init_bv_image_0"
                  }
                },
                "metaCoordinationScopesBy": {
                  "init_bv_image_0": {
                    "imageLayer": {
                      "spatialTargetResolution": {
                        "init_bv_image_0": "init_bv_image_0"
                      },
                      "spatialLayerOpacity": {
                        "init_bv_image_0": "init_bv_image_0"
                      },
                      "spatialLayerVisible": {
                        "init_bv_image_0": "init_bv_image_0"
                      },
                      "photometricInterpretation": {
                        "init_bv_image_0": "init_bv_image_0"
                      },
                      "imageChannel": {
                        "init_bv_image_0": [
                          "init_bv_image_0"
                        ]
                      },
                      "fileUid": {
                        "init_bv_image_0": "init_bv_image_0"
                      },
                      "volumetricRenderingAlgorithm": {
                        "init_bv_image_0": "init_bv_image_0"
                      }
                    },
                    "imageChannel": {
                      "spatialTargetC": {
                        "init_bv_image_0": "init_bv_image_0",
                        "init_bv_image_1": "init_bv_image_1",
                        "init_bv_image_2": "init_bv_image_2",
                        "init_bv_image_3": "init_bv_image_3",
                        "init_bv_image_4": "init_bv_image_4"
                      },
                      "spatialChannelColor": {
                        "init_bv_image_0": "init_bv_image_0",
                        "init_bv_image_1": "init_bv_image_1",
                        "init_bv_image_2": "init_bv_image_2",
                        "init_bv_image_3": "init_bv_image_3",
                        "init_bv_image_4": "init_bv_image_4"
                      },
                      "spatialChannelVisible": {
                        "init_bv_image_0": "init_bv_image_0",
                        "init_bv_image_1": "init_bv_image_1",
                        "init_bv_image_2": "init_bv_image_2",
                        "init_bv_image_3": "init_bv_image_3",
                        "init_bv_image_4": "init_bv_image_4"
                      },
                      "spatialChannelOpacity": {
                        "init_bv_image_0": "init_bv_image_0",
                        "init_bv_image_1": "init_bv_image_1",
                        "init_bv_image_2": "init_bv_image_2",
                        "init_bv_image_3": "init_bv_image_3",
                        "init_bv_image_4": "init_bv_image_4"
                      },
                      "spatialChannelWindow": {
                        "init_bv_image_0": "init_bv_image_0",
                        "init_bv_image_1": "init_bv_image_1",
                        "init_bv_image_2": "init_bv_image_2",
                        "init_bv_image_3": "init_bv_image_3",
                        "init_bv_image_4": "init_bv_image_4"
                      }
                    }
                  }
                },
                "dataset": {
                  "init_bv_image_0": "init_bv_image_0",
                  "A": "bv"
                },
                "spatialZoom": {
                  "init_bv_image_0": -3.54,
                  "A": null
                },
                "spatialTargetX": {
                  "init_bv_image_0": 5230,
                  "A": null
                },
                "spatialTargetY": {
                  "init_bv_image_0": 2880,
                  "A": null
                },
                "spatialTargetZ": {
                  "init_bv_image_0": 0,
                  "A": null,
                  "B": null
                },
                "imageLayer": {
                  "init_bv_image_0": "__dummy__",
                  "A": null
                },
                "imageChannel": {
                  "init_bv_image_0": "__dummy__",
                  "init_bv_image_1": "__dummy__",
                  "init_bv_image_2": "__dummy__",
                  "init_bv_image_3": "__dummy__",
                  "init_bv_image_4": "__dummy__",
                  "A": null
                },
                "spatialTargetC": {
                  "init_bv_image_0": 0,
                  "init_bv_image_1": 1,
                  "init_bv_image_2": 2,
                  "init_bv_image_3": 3,
                  "init_bv_image_4": 4,
                  "A": null
                },
                "spatialTargetT": {
                  "init_bv_image_0": 0,
                  "A": null
                },
                "spatialLayerVisible": {
                  "init_bv_image_0": true,
                  "A": true
                },
                "spatialLayerOpacity": {
                  "init_bv_image_0": 1,
                  "A": 1
                },
                "spatialChannelVisible": {
                  "init_bv_image_0": true,
                  "init_bv_image_1": true,
                  "init_bv_image_2": true,
                  "init_bv_image_3": true,
                  "init_bv_image_4": true,
                  "A": true
                },
                "spatialChannelOpacity": {
                  "init_bv_image_0": 1,
                  "init_bv_image_1": 1,
                  "init_bv_image_2": 1,
                  "init_bv_image_3": 1,
                  "init_bv_image_4": 1,
                  "A": 1
                },
                "spatialChannelColor": {
                  "init_bv_image_0": [
                    255,
                    255,
                    255
                  ],
                  "init_bv_image_1": [
                    0,
                    255,
                    0
                  ],
                  "init_bv_image_2": [
                    255,
                    151,
                    0
                  ],
                  "init_bv_image_3": [
                    0,
                    158,
                    0
                  ],
                  "init_bv_image_4": [
                    255,
                    255,
                    255
                  ],
                  "A": [
                    255,
                    255,
                    255
                  ]
                },
                "photometricInterpretation": {
                  "init_bv_image_0": "BlackIsZero",
                  "A": null
                },
                "spatialRenderingMode": {
                  "init_bv_image_0": "3D",
                  "A": "2D"
                },
                "spatialTargetResolution": {
                  "init_bv_image_0": 3,
                  "A": 0
                },
                "obsType": {
                  "A": "cell"
                },
                "featureType": {
                  "A": "gene"
                },
                "featureValueType": {
                  "A": "expression"
                },
                "obsLabelsType": {
                  "A": null
                },
                "spatialRotation": {
                  "A": 0
                },
                "spatialRotationX": {
                  "A": 0
                },
                "spatialRotationY": {
                  "A": 0
                },
                "spatialRotationZ": {
                  "A": 0
                },
                "spatialRotationOrbit": {
                  "A": 0
                },
                "spatialOrbitAxis": {
                  "A": "Y"
                },
                "spatialAxisFixed": {
                  "A": false
                },
                "spatialNeighborhoodLayer": {
                  "A": null
                },
                "spatialPointLayer": {
                  "A": null
                },
                "obsFilter": {
                  "A": null
                },
                "obsHighlight": {
                  "A": null
                },
                "obsSetSelection": {
                  "A": null
                },
                "obsSetHighlight": {
                  "A": null
                },
                "obsSetColor": {
                  "A": null
                },
                "obsColorEncoding": {
                  "A": "cellSetSelection"
                },
                "featureHighlight": {
                  "A": null
                },
                "featureSelection": {
                  "A": null
                },
                "tooltipsVisible": {
                  "A": true
                },
                "featureValueColormap": {
                  "A": "plasma"
                },
                "featureValueColormapRange": {
                  "A": [
                    0,
                    1
                  ]
                },
                "additionalObsSets": {
                  "A": null
                },
                "moleculeHighlight": {
                  "A": null
                },
                "fileUid": {
                  "init_bv_image_0": null,
                  "A": null
                },
                "segmentationLayer": {
                  "A": null
                },
                "segmentationChannel": {
                  "A": null
                },
                "spatialLayerColormap": {
                  "A": null
                },
                "spatialLayerTransparentColor": {
                  "A": null
                },
                "spatialLayerModelMatrix": {
                  "A": null
                },
                "spatialChannelWindow": {
                  "init_bv_image_0": [
                    0,
                    34199
                  ],
                  "init_bv_image_1": [
                    0,
                    39023
                  ],
                  "init_bv_image_2": [
                    0,
                    34477
                  ],
                  "init_bv_image_3": [
                    0,
                    35333
                  ],
                  "init_bv_image_4": [
                    0,
                    33595
                  ],
                  "A": null
                },
                "spatialSegmentationFilled": {
                  "A": true
                },
                "spatialSegmentationStrokeWidth": {
                  "A": 1
                },
                "volumetricRenderingAlgorithm": {
                  "init_bv_image_0": "maximumIntensityProjection",
                  "A": "additive"
                },
                "spatialSliceX": {
                  "A": null
                },
                "spatialSliceY": {
                  "A": null
                },
                "spatialSliceZ": {
                  "A": null
                },
                "spotLayer": {
                  "A": null
                },
                "pointLayer": {
                  "A": null
                },
                "spatialSpotRadius": {
                  "A": 25
                },
                "spatialSpotFilled": {
                  "A": true
                },
                "spatialSpotStrokeWidth": {
                  "A": 1
                },
                "spatialLayerColor": {
                  "A": null
                },
                "pixelHighlight": {
                  "A": null
                },
                "tooltipCrosshairsVisible": {
                  "A": true
                },
                "legendVisible": {
                  "A": true
                },
                "spatialChannelLabelsVisible": {
                  "A": true
                },
                "spatialChannelLabelsOrientation": {
                  "A": "vertical"
                },
                "spatialChannelLabelSize": {
                  "A": 14
                },
                "spatialImageLayer": {
                  "init_bv_image_0": [
                    {
                      "type": "raster",
                      "index": 0,
                      "visible": true,
                      "colormap": null,
                      "opacity": 1,
                      "domainType": "Min/Max",
                      "transparentColor": null,
                      "renderingMode": "Additive",
                      "use3d": false,
                      "channels": [
                        {
                          "selection": {
                            "z": 97,
                            "t": 0,
                            "c": 0
                          },
                          "color": [
                            255,
                            0,
                            0
                          ],
                          "visible": true,
                          "slider": [
                            0,
                            34199
                          ]
                        },
                        {
                          "selection": {
                            "z": 97,
                            "t": 0,
                            "c": 1
                          },
                          "color": [
                            0,
                            255,
                            0
                          ],
                          "visible": true,
                          "slider": [
                            0,
                            39023
                          ]
                        },
                        {
                          "selection": {
                            "z": 97,
                            "t": 0,
                            "c": 2
                          },
                          "color": [
                            255,
                            151,
                            0
                          ],
                          "visible": true,
                          "slider": [
                            0,
                            34477
                          ]
                        },
                        {
                          "selection": {
                            "z": 97,
                            "t": 0,
                            "c": 3
                          },
                          "color": [
                            0,
                            158,
                            0
                          ],
                          "visible": true,
                          "slider": [
                            0,
                            35333
                          ]
                        }
                      ],
                      "modelMatrix": [
                        0.13999999999999999,
                        0,
                        0,
                        0,
                        0,
                        0.14,
                        0,
                        0,
                        0,
                        0,
                        0.28,
                        0,
                        0,
                        0,
                        0,
                        1
                      ]
                    }
                  ]
                }
              },
              "layout": [
                {
                  "component": "spatialBeta",
                  "x": 0,
                  "y": 0,
                  "w": 6,
                  "h": 12,
                  "coordinationScopes": {
                    "dataset": "A",
                    "metaCoordinationScopes": [
                      "init_bv_image_0",
                      "init_bv_image_0"
                    ],
                    "metaCoordinationScopesBy": [
                      "init_bv_image_0",
                      "init_bv_image_0"
                    ],
                    "obsType": "A",
                    "featureType": "A",
                    "featureValueType": "A",
                    "obsLabelsType": "A",
                    "spatialZoom": "A",
                    "spatialRotation": "A",
                    "spatialTargetX": "A",
                    "spatialTargetY": "A",
                    "spatialTargetZ": "A",
                    "spatialRotationX": "A",
                    "spatialRotationY": "A",
                    "spatialRotationZ": "A",
                    "spatialRotationOrbit": "A",
                    "spatialOrbitAxis": "A",
                    "spatialAxisFixed": "A",
                    "spatialNeighborhoodLayer": "A",
                    "spatialPointLayer": "A",
                    "obsFilter": "A",
                    "obsHighlight": "A",
                    "obsSetSelection": "A",
                    "obsSetHighlight": "A",
                    "obsSetColor": "A",
                    "obsColorEncoding": "A",
                    "featureHighlight": "A",
                    "featureSelection": "A",
                    "tooltipsVisible": "A",
                    "featureValueColormap": "A",
                    "featureValueColormapRange": "A",
                    "additionalObsSets": "A",
                    "moleculeHighlight": "A",
                    "fileUid": "A",
                    "imageLayer": "A",
                    "imageChannel": "A",
                    "segmentationLayer": "A",
                    "segmentationChannel": "A",
                    "spatialTargetC": "A",
                    "spatialTargetT": "A",
                    "spatialLayerVisible": "A",
                    "spatialLayerOpacity": "A",
                    "spatialLayerColormap": "A",
                    "spatialLayerTransparentColor": "A",
                    "spatialLayerModelMatrix": "A",
                    "spatialChannelVisible": "A",
                    "spatialChannelOpacity": "A",
                    "spatialChannelWindow": "A",
                    "spatialChannelColor": "A",
                    "spatialSegmentationFilled": "A",
                    "spatialSegmentationStrokeWidth": "A",
                    "spatialRenderingMode": "A",
                    "volumetricRenderingAlgorithm": "A",
                    "spatialTargetResolution": "A",
                    "spatialSliceX": "A",
                    "spatialSliceY": "A",
                    "spatialSliceZ": "A",
                    "spotLayer": "A",
                    "pointLayer": "A",
                    "spatialSpotRadius": "A",
                    "spatialSpotFilled": "A",
                    "spatialSpotStrokeWidth": "A",
                    "spatialLayerColor": "A",
                    "pixelHighlight": "A",
                    "tooltipCrosshairsVisible": "A",
                    "legendVisible": "A",
                    "spatialChannelLabelsVisible": "A",
                    "spatialChannelLabelsOrientation": "A",
                    "spatialChannelLabelSize": "A"
                  },
                  "uid": "A"
                },
                {
                  "component": "layerControllerBeta",
                  "x": 6,
                  "y": 0,
                  "w": 6,
                  "h": 12,
                  "coordinationScopes": {
                    "dataset": "A",
                    "metaCoordinationScopes": [
                      "init_bv_image_0",
                      "init_bv_image_0"
                    ],
                    "metaCoordinationScopesBy": [
                      "init_bv_image_0",
                      "init_bv_image_0"
                    ],
                    "obsType": "A",
                    "featureType": "A",
                    "featureValueType": "A",
                    "spatialZoom": "A",
                    "spatialTargetX": "A",
                    "spatialTargetY": "A",
                    "spatialTargetZ": "A",
                    "spatialRotationX": "A",
                    "spatialRotationY": "A",
                    "spatialRotationZ": "A",
                    "spatialRotationOrbit": "A",
                    "spatialOrbitAxis": "A",
                    "spatialNeighborhoodLayer": "A",
                    "spatialPointLayer": "A",
                    "obsColorEncoding": "A",
                    "featureSelection": "A",
                    "tooltipsVisible": "A",
                    "featureValueColormap": "A",
                    "featureValueColormapRange": "A",
                    "fileUid": "A",
                    "imageLayer": "A",
                    "imageChannel": "A",
                    "segmentationLayer": "A",
                    "segmentationChannel": "A",
                    "spatialTargetC": "A",
                    "spatialTargetT": "A",
                    "spatialLayerVisible": "A",
                    "spatialLayerOpacity": "A",
                    "spatialLayerColormap": "A",
                    "spatialLayerTransparentColor": "A",
                    "spatialLayerModelMatrix": "A",
                    "spatialChannelVisible": "A",
                    "spatialChannelOpacity": "A",
                    "spatialChannelWindow": "A",
                    "spatialChannelColor": "A",
                    "spatialSegmentationFilled": "A",
                    "spatialSegmentationStrokeWidth": "A",
                    "photometricInterpretation": "A",
                    "spatialRenderingMode": "A",
                    "volumetricRenderingAlgorithm": "A",
                    "spatialTargetResolution": "A",
                    "spatialSliceX": "A",
                    "spatialSliceY": "A",
                    "spatialSliceZ": "A",
                    "spotLayer": "A",
                    "pointLayer": "A",
                    "spatialSpotRadius": "A",
                    "spatialSpotFilled": "A",
                    "spatialSpotStrokeWidth": "A",
                    "spatialLayerColor": "A",
                    "tooltipCrosshairsVisible": "A",
                    "legendVisible": "A",
                    "spatialChannelLabelsVisible": "A",
                    "spatialChannelLabelsOrientation": "A",
                    "spatialChannelLabelSize": "A"
                  },
                  "uid": "B"
                }
              ],
              "initStrategy": "auto",
              "uid": "A"
            },
            "custom_js_url": "",
            "has_host_name": false,
            "height": 600,
            "invoke_timeout": 30000,
            "js_dev_mode": false,
            "js_package_version": "3.4.5",
            "layout": "IPY_MODEL_54b1b2e1d35b4330b7e23871a32070c2",
            "plugin_esm": [],
            "proxy": false,
            "remount_on_uid_change": false,
            "store_urls": [],
            "theme": "auto",
            "uid": "b697"
          }
        },
        "54b1b2e1d35b4330b7e23871a32070c2": {
          "model_module": "@jupyter-widgets/base",
          "model_name": "LayoutModel",
          "model_module_version": "1.2.0",
          "state": {
            "_model_module": "@jupyter-widgets/base",
            "_model_module_version": "1.2.0",
            "_model_name": "LayoutModel",
            "_view_count": null,
            "_view_module": "@jupyter-widgets/base",
            "_view_module_version": "1.2.0",
            "_view_name": "LayoutView",
            "align_content": null,
            "align_items": null,
            "align_self": null,
            "border": null,
            "bottom": null,
            "display": null,
            "flex": null,
            "flex_flow": null,
            "grid_area": null,
            "grid_auto_columns": null,
            "grid_auto_flow": null,
            "grid_auto_rows": null,
            "grid_column": null,
            "grid_gap": null,
            "grid_row": null,
            "grid_template_areas": null,
            "grid_template_columns": null,
            "grid_template_rows": null,
            "height": null,
            "justify_content": null,
            "justify_items": null,
            "left": null,
            "margin": null,
            "max_height": null,
            "max_width": null,
            "min_height": null,
            "min_width": null,
            "object_fit": null,
            "object_position": null,
            "order": null,
            "overflow": null,
            "overflow_x": null,
            "overflow_y": null,
            "padding": null,
            "right": null,
            "top": null,
            "visibility": null,
            "width": null
          }
        },
        "eb9c483cf8de479cbd2a750e35673ccb": {
          "model_module": "anywidget",
          "model_name": "AnyModel",
          "model_module_version": "~0.9.*",
          "state": {
            "_anywidget_id": "vitessce.widget.VitessceWidget",
            "_dom_classes": [],
            "_esm": "\nimport { importWithMap } from 'https://unpkg.com/dynamic-importmap@0.1.0';\nconst importMap = {\n  imports: {\n    \"react\": \"https://esm.sh/react@18.2.0?dev\",\n    \"react-dom\": \"https://esm.sh/react-dom@18.2.0?dev\",\n    \"react-dom/client\": \"https://esm.sh/react-dom@18.2.0/client?dev\",\n  },\n};\n\nconst React = await importWithMap(\"react\", importMap);\nconst { createRoot } = await importWithMap(\"react-dom/client\", importMap);\n\nconst e = React.createElement;\n\nconst prefersDark = window.matchMedia && window.matchMedia('(prefers-color-scheme: dark)').matches;\n\n// The jupyter server may be running through a proxy,\n// which means that the client needs to prepend the part of the URL before /proxy/8000 such as\n// https://hub.gke2.mybinder.org/user/vitessce-vitessce-python-swi31vcv/proxy/8000/A/0/cells\nfunction prependBaseUrl(config, proxy, hasHostName) {\n  if(!proxy || hasHostName) {\n    return config;\n  }\n  const { origin } = new URL(window.location.href);\n  let baseUrl;\n  const jupyterLabConfigEl = document.getElementById('jupyter-config-data');\n\n  if (jupyterLabConfigEl) {\n    // This is jupyter lab\n    baseUrl = JSON.parse(jupyterLabConfigEl.textContent || '').baseUrl;\n  } else {\n    // This is jupyter notebook\n    baseUrl = document.getElementsByTagName('body')[0].getAttribute('data-base-url');\n  }\n  return {\n    ...config,\n    datasets: config.datasets.map(d => ({\n      ...d,\n      files: d.files.map(f => ({\n        ...f,\n        url: `${origin}${baseUrl}${f.url}`,\n      })),\n    })),\n  };\n}\n\nasync function render(view) {\n    const cssUid = view.model.get('uid');\n    const jsDevMode = view.model.get('js_dev_mode');\n    const jsPackageVersion = view.model.get('js_package_version');\n    const customJsUrl = view.model.get('custom_js_url');\n    const pluginEsmArr = view.model.get('plugin_esm');\n    const remountOnUidChange = view.model.get('remount_on_uid_change');\n    const storeUrls = view.model.get('store_urls');\n    const invokeTimeout = view.model.get('invoke_timeout');\n\n    const pkgName = (jsDevMode ? \"@vitessce/dev\" : \"vitessce\");\n\n    importMap.imports[\"vitessce\"] = (customJsUrl.length > 0\n        ? customJsUrl\n        : `https://unpkg.com/${pkgName}@${jsPackageVersion}`\n    );\n\n    const {\n        Vitessce,\n        PluginFileType,\n        PluginViewType,\n        PluginCoordinationType,\n        PluginJointFileType,\n        z,\n        useCoordination,\n        useGridItemSize,\n        // TODO: names and function signatures are subject to change for the following functions\n        // Reference: https://github.com/keller-mark/use-coordination/issues/37#issuecomment-1946226827\n        useComplexCoordination,\n        useMultiCoordinationScopesNonNull,\n        useMultiCoordinationScopesSecondaryNonNull,\n        useComplexCoordinationSecondary,\n        useCoordinationScopes,\n        useCoordinationScopesBy,\n    } = await importWithMap(\"vitessce\", importMap);\n\n    let pluginViewTypes = [];\n    let pluginCoordinationTypes = [];\n    let pluginFileTypes = [];\n    let pluginJointFileTypes = [];\n\n    const stores = Object.fromEntries(\n        storeUrls.map(storeUrl => ([\n            storeUrl,\n            {\n                async get(key) {\n                    const [data, buffers] = await view.experimental.invoke(\"_zarr_get\", [storeUrl, key], {\n                        signal: AbortSignal.timeout(invokeTimeout),\n                    });\n                    if (!data.success) return undefined;\n                    return buffers[0].buffer;\n                },\n            }\n        ])),\n    );\n\n    function invokePluginCommand(commandName, commandParams, commandBuffers) {\n        return view.experimental.invoke(\"_plugin_command\", [commandName, commandParams], {\n            signal: AbortSignal.timeout(invokeTimeout),\n            ...(commandBuffers ? { buffers: commandBuffers } : {}),\n        });\n    }\n\n    for (const pluginEsm of pluginEsmArr) {\n        try {\n            const pluginEsmUrl = URL.createObjectURL(new Blob([pluginEsm], { type: \"text/javascript\" }));\n            const pluginModule = (await import(pluginEsmUrl)).default;\n            URL.revokeObjectURL(pluginEsmUrl);\n\n            const pluginsObj = await pluginModule.createPlugins({\n                React,\n                PluginFileType,\n                PluginViewType,\n                PluginCoordinationType,\n                PluginJointFileType,\n                z,\n                invokeCommand: invokePluginCommand,\n                useCoordination,\n                useGridItemSize,\n                useComplexCoordination,\n                useMultiCoordinationScopesNonNull,\n                useMultiCoordinationScopesSecondaryNonNull,\n                useComplexCoordinationSecondary,\n                useCoordinationScopes,\n                useCoordinationScopesBy,\n            });\n            if(Array.isArray(pluginsObj.pluginViewTypes)) {\n                pluginViewTypes = [...pluginViewTypes, ...pluginsObj.pluginViewTypes];\n            }\n            if(Array.isArray(pluginsObj.pluginCoordinationTypes)) {\n                pluginCoordinationTypes = [...pluginCoordinationTypes, ...pluginsObj.pluginCoordinationTypes];\n            }\n            if(Array.isArray(pluginsObj.pluginFileTypes)) {\n                pluginFileTypes = [...pluginFileTypes, ...pluginsObj.pluginFileTypes];\n            }\n            if(Array.isArray(pluginsObj.pluginJointFileTypes)) {\n                pluginJointFileTypes = [...pluginJointFileTypes, ...pluginsObj.pluginJointFileTypes];\n            }\n        } catch(e) {\n            console.error(e);\n        }\n    }\n\n    function VitessceWidget(props) {\n        const { model } = props;\n\n        const [config, setConfig] = React.useState(prependBaseUrl(model.get('config'), model.get('proxy'), model.get('has_host_name')));\n        const [validateConfig, setValidateConfig] = React.useState(true);\n        const height = model.get('height');\n        const theme = model.get('theme') === 'auto' ? (prefersDark ? 'dark' : 'light') : model.get('theme');\n\n        const divRef = React.useRef();\n\n        React.useEffect(() => {\n            if(!divRef.current) {\n                return () => {};\n            }\n\n            function handleMouseEnter() {\n                const jpn = divRef.current.closest('.jp-Notebook');\n                if(jpn) {\n                    jpn.style.overflow = \"hidden\";\n                }\n            }\n            function handleMouseLeave(event) {\n                if(event.relatedTarget === null || (event.relatedTarget && event.relatedTarget.closest('.jp-Notebook')?.length)) return;\n                const jpn = divRef.current.closest('.jp-Notebook');\n                if(jpn) {\n                    jpn.style.overflow = \"auto\";\n                }\n            }\n            divRef.current.addEventListener(\"mouseenter\", handleMouseEnter);\n            divRef.current.addEventListener(\"mouseleave\", handleMouseLeave);\n\n            return () => {\n                if(divRef.current) {\n                    divRef.current.removeEventListener(\"mouseenter\", handleMouseEnter);\n                    divRef.current.removeEventListener(\"mouseleave\", handleMouseLeave);\n                }\n            };\n        }, [divRef]);\n\n        // Config changed on JS side (from within <Vitessce/>),\n        // send updated config to Python side.\n        const onConfigChange = React.useCallback((config) => {\n            model.set('config', config);\n            setValidateConfig(false);\n            model.save_changes();\n        }, [model]);\n\n        // Config changed on Python side,\n        // pass to <Vitessce/> component to it is updated on JS side.\n        React.useEffect(() => {\n            model.on('change:config', () => {\n                const newConfig = prependBaseUrl(model.get('config'), model.get('proxy'), model.get('has_host_name'));\n\n                // Force a re-render and re-validation by setting a new config.uid value.\n                // TODO: make this conditional on a parameter from Python.\n                //newConfig.uid = `random-${Math.random()}`;\n                //console.log('newConfig', newConfig);\n                setConfig(newConfig);\n            });\n        }, []);\n\n        const vitessceProps = {\n            height, theme, config, onConfigChange, validateConfig,\n            pluginViewTypes, pluginCoordinationTypes, pluginFileTypes, pluginJointFileTypes,\n            remountOnUidChange, stores,\n        };\n\n        return e('div', { ref: divRef, style: { height: height + 'px' } },\n            e(React.Suspense, { fallback: e('div', {}, 'Loading...') },\n                e(React.StrictMode, {},\n                    e(Vitessce, vitessceProps)\n                ),\n            ),\n        );\n    }\n\n    const root = createRoot(view.el);\n    root.render(e(VitessceWidget, { model: view.model }));\n\n    return () => {\n        // Re-enable scrolling.\n        const jpn = view.el.closest('.jp-Notebook');\n        if(jpn) {\n            jpn.style.overflow = \"auto\";\n        }\n\n        // Clean up React and DOM state.\n        root.unmount();\n        if(view._isFromDisplay) {\n            view.el.remove();\n        }\n    };\n}\nexport default { render };\n",
            "_model_module": "anywidget",
            "_model_module_version": "~0.9.*",
            "_model_name": "AnyModel",
            "_view_count": null,
            "_view_module": "anywidget",
            "_view_module_version": "~0.9.*",
            "_view_name": "AnyView",
            "config": {
              "version": "1.0.16",
              "name": "BioMedVis Challenge",
              "description": "",
              "datasets": [
                {
                  "uid": "bv",
                  "name": "Blood Vessel",
                  "files": [
                    {
                      "fileType": "image.ome-zarr",
                      "url": "https://lsp-public-data.s3.amazonaws.com/yapp-2023-3d-melanoma/Dataset1-LSP13626-melanoma-in-situ/0"
                    }
                  ]
                }
              ],
              "coordinationSpace": {
                "metaCoordinationScopes": {
                  "init_bv_image_0": {
                    "spatialImageLayer": "init_bv_image_0",
                    "spatialTargetZ": "init_bv_image_0",
                    "spatialTargetT": "init_bv_image_0",
                    "imageLayer": [
                      "init_bv_image_0"
                    ],
                    "spatialZoom": "init_bv_image_0",
                    "spatialTargetX": "init_bv_image_0",
                    "spatialTargetY": "init_bv_image_0",
                    "spatialRenderingMode": "init_bv_image_0"
                  }
                },
                "metaCoordinationScopesBy": {
                  "init_bv_image_0": {
                    "imageLayer": {
                      "spatialTargetResolution": {
                        "init_bv_image_0": "init_bv_image_0"
                      },
                      "spatialLayerOpacity": {
                        "init_bv_image_0": "init_bv_image_0"
                      },
                      "spatialLayerVisible": {
                        "init_bv_image_0": "init_bv_image_0"
                      },
                      "photometricInterpretation": {
                        "init_bv_image_0": "init_bv_image_0"
                      },
                      "imageChannel": {
                        "init_bv_image_0": [
                          "init_bv_image_0",
                          "init_bv_image_1",
                          "init_bv_image_2",
                          "init_bv_image_3"
                        ]
                      },
                      "fileUid": {
                        "init_bv_image_0": "init_bv_image_0"
                      },
                      "volumetricRenderingAlgorithm": {
                        "init_bv_image_0": "init_bv_image_0"
                      }
                    },
                    "imageChannel": {
                      "spatialTargetC": {
                        "init_bv_image_0": "init_bv_image_0",
                        "init_bv_image_1": "init_bv_image_1",
                        "init_bv_image_2": "init_bv_image_2",
                        "init_bv_image_3": "init_bv_image_3",
                        "init_bv_image_4": "init_bv_image_4"
                      },
                      "spatialChannelColor": {
                        "init_bv_image_0": "init_bv_image_0",
                        "init_bv_image_1": "init_bv_image_1",
                        "init_bv_image_2": "init_bv_image_2",
                        "init_bv_image_3": "init_bv_image_3",
                        "init_bv_image_4": "init_bv_image_4"
                      },
                      "spatialChannelVisible": {
                        "init_bv_image_0": "init_bv_image_0",
                        "init_bv_image_1": "init_bv_image_1",
                        "init_bv_image_2": "init_bv_image_2",
                        "init_bv_image_3": "init_bv_image_3",
                        "init_bv_image_4": "init_bv_image_4"
                      },
                      "spatialChannelOpacity": {
                        "init_bv_image_0": "init_bv_image_0",
                        "init_bv_image_1": "init_bv_image_1",
                        "init_bv_image_2": "init_bv_image_2",
                        "init_bv_image_3": "init_bv_image_3",
                        "init_bv_image_4": "init_bv_image_4"
                      },
                      "spatialChannelWindow": {
                        "init_bv_image_0": "init_bv_image_0",
                        "init_bv_image_1": "init_bv_image_1",
                        "init_bv_image_2": "init_bv_image_2",
                        "init_bv_image_3": "init_bv_image_3",
                        "init_bv_image_4": "init_bv_image_4"
                      }
                    }
                  }
                },
                "dataset": {
                  "init_bv_image_0": "init_bv_image_0",
                  "A": "bv"
                },
                "spatialZoom": {
                  "init_bv_image_0": -1.1,
                  "A": null
                },
                "spatialTargetX": {
                  "init_bv_image_0": 2914,
                  "A": null
                },
                "spatialTargetY": {
                  "init_bv_image_0": 1267,
                  "A": null
                },
                "spatialTargetZ": {
                  "init_bv_image_0": 0,
                  "A": null,
                  "B": null
                },
                "imageLayer": {
                  "init_bv_image_0": "__dummy__",
                  "A": null
                },
                "imageChannel": {
                  "init_bv_image_0": "__dummy__",
                  "init_bv_image_1": "__dummy__",
                  "init_bv_image_2": "__dummy__",
                  "init_bv_image_3": "__dummy__",
                  "init_bv_image_4": "__dummy__",
                  "A": null
                },
                "spatialTargetC": {
                  "init_bv_image_0": 9,
                  "init_bv_image_1": 19,
                  "init_bv_image_2": 69,
                  "init_bv_image_3": 21,
                  "init_bv_image_4": 4,
                  "A": null
                },
                "spatialTargetT": {
                  "init_bv_image_0": 0,
                  "A": null
                },
                "spatialLayerVisible": {
                  "init_bv_image_0": true,
                  "A": true
                },
                "spatialLayerOpacity": {
                  "init_bv_image_0": 1,
                  "A": 1
                },
                "spatialChannelVisible": {
                  "init_bv_image_0": true,
                  "init_bv_image_1": true,
                  "init_bv_image_2": true,
                  "init_bv_image_3": true,
                  "init_bv_image_4": true,
                  "A": true
                },
                "spatialChannelOpacity": {
                  "init_bv_image_0": 1,
                  "init_bv_image_1": 1,
                  "init_bv_image_2": 1,
                  "init_bv_image_3": 1,
                  "init_bv_image_4": 1,
                  "A": 1
                },
                "spatialChannelWindow": {
                  "init_bv_image_0": [
                    0,
                    9486
                  ],
                  "init_bv_image_1": [
                    666,
                    21313
                  ],
                  "init_bv_image_2": [
                    6,
                    34
                  ],
                  "init_bv_image_3": [
                    1638,
                    36287
                  ],
                  "init_bv_image_4": [
                    0,
                    33595
                  ],
                  "A": null
                },
                "spatialChannelColor": {
                  "init_bv_image_0": [
                    255,
                    125,
                    0
                  ],
                  "init_bv_image_1": [
                    0,
                    255,
                    0
                  ],
                  "init_bv_image_2": [
                    255,
                    255,
                    0
                  ],
                  "init_bv_image_3": [
                    255,
                    0,
                    0
                  ],
                  "init_bv_image_4": [
                    255,
                    255,
                    255
                  ],
                  "A": [
                    255,
                    255,
                    255
                  ]
                },
                "photometricInterpretation": {
                  "init_bv_image_0": "BlackIsZero",
                  "A": null
                },
                "spatialRenderingMode": {
                  "init_bv_image_0": "3D",
                  "A": "2D"
                },
                "spatialTargetResolution": {
                  "init_bv_image_0": 3,
                  "A": 0
                },
                "obsType": {
                  "A": "cell"
                },
                "featureType": {
                  "A": "gene"
                },
                "featureValueType": {
                  "A": "expression"
                },
                "obsLabelsType": {
                  "A": null
                },
                "spatialRotation": {
                  "A": 0
                },
                "spatialRotationX": {
                  "A": 0
                },
                "spatialRotationY": {
                  "A": 0
                },
                "spatialRotationZ": {
                  "A": 0
                },
                "spatialRotationOrbit": {
                  "A": 0
                },
                "spatialOrbitAxis": {
                  "A": "Y"
                },
                "spatialAxisFixed": {
                  "A": false
                },
                "spatialNeighborhoodLayer": {
                  "A": null
                },
                "spatialPointLayer": {
                  "A": null
                },
                "obsFilter": {
                  "A": null
                },
                "obsHighlight": {
                  "A": null
                },
                "obsSetSelection": {
                  "A": null
                },
                "obsSetHighlight": {
                  "A": null
                },
                "obsSetColor": {
                  "A": null
                },
                "obsColorEncoding": {
                  "A": "cellSetSelection"
                },
                "featureHighlight": {
                  "A": null
                },
                "featureSelection": {
                  "A": null
                },
                "tooltipsVisible": {
                  "A": true
                },
                "featureValueColormap": {
                  "A": "plasma"
                },
                "featureValueColormapRange": {
                  "A": [
                    0,
                    1
                  ]
                },
                "additionalObsSets": {
                  "A": null
                },
                "moleculeHighlight": {
                  "A": null
                },
                "fileUid": {
                  "init_bv_image_0": null,
                  "A": null
                },
                "segmentationLayer": {
                  "A": null
                },
                "segmentationChannel": {
                  "A": null
                },
                "spatialLayerColormap": {
                  "A": null
                },
                "spatialLayerTransparentColor": {
                  "A": null
                },
                "spatialLayerModelMatrix": {
                  "A": null
                },
                "spatialSegmentationFilled": {
                  "A": true
                },
                "spatialSegmentationStrokeWidth": {
                  "A": 1
                },
                "volumetricRenderingAlgorithm": {
                  "init_bv_image_0": "maximumIntensityProjection",
                  "A": "additive"
                },
                "spatialSliceX": {
                  "A": null
                },
                "spatialSliceY": {
                  "A": null
                },
                "spatialSliceZ": {
                  "A": null
                },
                "spotLayer": {
                  "A": null
                },
                "pointLayer": {
                  "A": null
                },
                "spatialSpotRadius": {
                  "A": 25
                },
                "spatialSpotFilled": {
                  "A": true
                },
                "spatialSpotStrokeWidth": {
                  "A": 1
                },
                "spatialLayerColor": {
                  "A": null
                },
                "pixelHighlight": {
                  "A": null
                },
                "tooltipCrosshairsVisible": {
                  "A": true
                },
                "legendVisible": {
                  "A": true
                },
                "spatialChannelLabelsVisible": {
                  "A": true
                },
                "spatialChannelLabelsOrientation": {
                  "A": "vertical"
                },
                "spatialChannelLabelSize": {
                  "A": 14
                },
                "spatialImageLayer": {
                  "init_bv_image_0": [
                    {
                      "type": "raster",
                      "index": 0,
                      "visible": true,
                      "colormap": null,
                      "opacity": 1,
                      "domainType": "Min/Max",
                      "transparentColor": null,
                      "renderingMode": "Additive",
                      "use3d": false,
                      "channels": [
                        {
                          "selection": {
                            "z": 97,
                            "t": 0,
                            "c": 0
                          },
                          "color": [
                            255,
                            0,
                            0
                          ],
                          "visible": true,
                          "slider": [
                            0,
                            34199
                          ]
                        },
                        {
                          "selection": {
                            "z": 97,
                            "t": 0,
                            "c": 1
                          },
                          "color": [
                            0,
                            255,
                            0
                          ],
                          "visible": true,
                          "slider": [
                            0,
                            39023
                          ]
                        },
                        {
                          "selection": {
                            "z": 97,
                            "t": 0,
                            "c": 2
                          },
                          "color": [
                            255,
                            151,
                            0
                          ],
                          "visible": true,
                          "slider": [
                            0,
                            34477
                          ]
                        },
                        {
                          "selection": {
                            "z": 97,
                            "t": 0,
                            "c": 3
                          },
                          "color": [
                            0,
                            158,
                            0
                          ],
                          "visible": true,
                          "slider": [
                            0,
                            35333
                          ]
                        }
                      ],
                      "modelMatrix": [
                        0.13999999999999999,
                        0,
                        0,
                        0,
                        0,
                        0.14,
                        0,
                        0,
                        0,
                        0,
                        0.28,
                        0,
                        0,
                        0,
                        0,
                        1
                      ]
                    }
                  ]
                }
              },
              "layout": [
                {
                  "component": "spatialBeta",
                  "x": 0,
                  "y": 0,
                  "w": 6,
                  "h": 12,
                  "coordinationScopes": {
                    "dataset": "A",
                    "metaCoordinationScopes": [
                      "init_bv_image_0",
                      "init_bv_image_0"
                    ],
                    "metaCoordinationScopesBy": [
                      "init_bv_image_0",
                      "init_bv_image_0"
                    ],
                    "obsType": "A",
                    "featureType": "A",
                    "featureValueType": "A",
                    "obsLabelsType": "A",
                    "spatialZoom": "A",
                    "spatialRotation": "A",
                    "spatialTargetX": "A",
                    "spatialTargetY": "A",
                    "spatialTargetZ": "A",
                    "spatialRotationX": "A",
                    "spatialRotationY": "A",
                    "spatialRotationZ": "A",
                    "spatialRotationOrbit": "A",
                    "spatialOrbitAxis": "A",
                    "spatialAxisFixed": "A",
                    "spatialNeighborhoodLayer": "A",
                    "spatialPointLayer": "A",
                    "obsFilter": "A",
                    "obsHighlight": "A",
                    "obsSetSelection": "A",
                    "obsSetHighlight": "A",
                    "obsSetColor": "A",
                    "obsColorEncoding": "A",
                    "featureHighlight": "A",
                    "featureSelection": "A",
                    "tooltipsVisible": "A",
                    "featureValueColormap": "A",
                    "featureValueColormapRange": "A",
                    "additionalObsSets": "A",
                    "moleculeHighlight": "A",
                    "fileUid": "A",
                    "imageLayer": "A",
                    "imageChannel": "A",
                    "segmentationLayer": "A",
                    "segmentationChannel": "A",
                    "spatialTargetC": "A",
                    "spatialTargetT": "A",
                    "spatialLayerVisible": "A",
                    "spatialLayerOpacity": "A",
                    "spatialLayerColormap": "A",
                    "spatialLayerTransparentColor": "A",
                    "spatialLayerModelMatrix": "A",
                    "spatialChannelVisible": "A",
                    "spatialChannelOpacity": "A",
                    "spatialChannelWindow": "A",
                    "spatialChannelColor": "A",
                    "spatialSegmentationFilled": "A",
                    "spatialSegmentationStrokeWidth": "A",
                    "spatialRenderingMode": "A",
                    "volumetricRenderingAlgorithm": "A",
                    "spatialTargetResolution": "A",
                    "spatialSliceX": "A",
                    "spatialSliceY": "A",
                    "spatialSliceZ": "A",
                    "spotLayer": "A",
                    "pointLayer": "A",
                    "spatialSpotRadius": "A",
                    "spatialSpotFilled": "A",
                    "spatialSpotStrokeWidth": "A",
                    "spatialLayerColor": "A",
                    "pixelHighlight": "A",
                    "tooltipCrosshairsVisible": "A",
                    "legendVisible": "A",
                    "spatialChannelLabelsVisible": "A",
                    "spatialChannelLabelsOrientation": "A",
                    "spatialChannelLabelSize": "A"
                  },
                  "uid": "A"
                },
                {
                  "component": "layerControllerBeta",
                  "x": 6,
                  "y": 0,
                  "w": 6,
                  "h": 12,
                  "coordinationScopes": {
                    "dataset": "A",
                    "metaCoordinationScopes": [
                      "init_bv_image_0",
                      "init_bv_image_0"
                    ],
                    "metaCoordinationScopesBy": [
                      "init_bv_image_0",
                      "init_bv_image_0"
                    ],
                    "obsType": "A",
                    "featureType": "A",
                    "featureValueType": "A",
                    "spatialZoom": "A",
                    "spatialTargetX": "A",
                    "spatialTargetY": "A",
                    "spatialTargetZ": "A",
                    "spatialRotationX": "A",
                    "spatialRotationY": "A",
                    "spatialRotationZ": "A",
                    "spatialRotationOrbit": "A",
                    "spatialOrbitAxis": "A",
                    "spatialNeighborhoodLayer": "A",
                    "spatialPointLayer": "A",
                    "obsColorEncoding": "A",
                    "featureSelection": "A",
                    "tooltipsVisible": "A",
                    "featureValueColormap": "A",
                    "featureValueColormapRange": "A",
                    "fileUid": "A",
                    "imageLayer": "A",
                    "imageChannel": "A",
                    "segmentationLayer": "A",
                    "segmentationChannel": "A",
                    "spatialTargetC": "A",
                    "spatialTargetT": "A",
                    "spatialLayerVisible": "A",
                    "spatialLayerOpacity": "A",
                    "spatialLayerColormap": "A",
                    "spatialLayerTransparentColor": "A",
                    "spatialLayerModelMatrix": "A",
                    "spatialChannelVisible": "A",
                    "spatialChannelOpacity": "A",
                    "spatialChannelWindow": "A",
                    "spatialChannelColor": "A",
                    "spatialSegmentationFilled": "A",
                    "spatialSegmentationStrokeWidth": "A",
                    "photometricInterpretation": "A",
                    "spatialRenderingMode": "A",
                    "volumetricRenderingAlgorithm": "A",
                    "spatialTargetResolution": "A",
                    "spatialSliceX": "A",
                    "spatialSliceY": "A",
                    "spatialSliceZ": "A",
                    "spotLayer": "A",
                    "pointLayer": "A",
                    "spatialSpotRadius": "A",
                    "spatialSpotFilled": "A",
                    "spatialSpotStrokeWidth": "A",
                    "spatialLayerColor": "A",
                    "tooltipCrosshairsVisible": "A",
                    "legendVisible": "A",
                    "spatialChannelLabelsVisible": "A",
                    "spatialChannelLabelsOrientation": "A",
                    "spatialChannelLabelSize": "A"
                  },
                  "uid": "B"
                }
              ],
              "initStrategy": "auto",
              "uid": "A"
            },
            "custom_js_url": "",
            "has_host_name": false,
            "height": 600,
            "invoke_timeout": 30000,
            "js_dev_mode": false,
            "js_package_version": "3.4.5",
            "layout": "IPY_MODEL_39f16ab34a0e4fcf9ed7eb3cd2fd37e3",
            "plugin_esm": [],
            "proxy": false,
            "remount_on_uid_change": false,
            "store_urls": [],
            "theme": "auto",
            "uid": "d7d4"
          }
        },
        "39f16ab34a0e4fcf9ed7eb3cd2fd37e3": {
          "model_module": "@jupyter-widgets/base",
          "model_name": "LayoutModel",
          "model_module_version": "1.2.0",
          "state": {
            "_model_module": "@jupyter-widgets/base",
            "_model_module_version": "1.2.0",
            "_model_name": "LayoutModel",
            "_view_count": null,
            "_view_module": "@jupyter-widgets/base",
            "_view_module_version": "1.2.0",
            "_view_name": "LayoutView",
            "align_content": null,
            "align_items": null,
            "align_self": null,
            "border": null,
            "bottom": null,
            "display": null,
            "flex": null,
            "flex_flow": null,
            "grid_area": null,
            "grid_auto_columns": null,
            "grid_auto_flow": null,
            "grid_auto_rows": null,
            "grid_column": null,
            "grid_gap": null,
            "grid_row": null,
            "grid_template_areas": null,
            "grid_template_columns": null,
            "grid_template_rows": null,
            "height": null,
            "justify_content": null,
            "justify_items": null,
            "left": null,
            "margin": null,
            "max_height": null,
            "max_width": null,
            "min_height": null,
            "min_width": null,
            "object_fit": null,
            "object_position": null,
            "order": null,
            "overflow": null,
            "overflow_x": null,
            "overflow_y": null,
            "padding": null,
            "right": null,
            "top": null,
            "visibility": null,
            "width": null
          }
        },
        "0d20aa17c11049e595e51e9c2519dcee": {
          "model_module": "anywidget",
          "model_name": "AnyModel",
          "model_module_version": "~0.9.*",
          "state": {
            "_anywidget_id": "vitessce.widget.VitessceWidget",
            "_dom_classes": [],
            "_esm": "\nimport { importWithMap } from 'https://unpkg.com/dynamic-importmap@0.1.0';\nconst importMap = {\n  imports: {\n    \"react\": \"https://esm.sh/react@18.2.0?dev\",\n    \"react-dom\": \"https://esm.sh/react-dom@18.2.0?dev\",\n    \"react-dom/client\": \"https://esm.sh/react-dom@18.2.0/client?dev\",\n  },\n};\n\nconst React = await importWithMap(\"react\", importMap);\nconst { createRoot } = await importWithMap(\"react-dom/client\", importMap);\n\nconst e = React.createElement;\n\nconst prefersDark = window.matchMedia && window.matchMedia('(prefers-color-scheme: dark)').matches;\n\n// The jupyter server may be running through a proxy,\n// which means that the client needs to prepend the part of the URL before /proxy/8000 such as\n// https://hub.gke2.mybinder.org/user/vitessce-vitessce-python-swi31vcv/proxy/8000/A/0/cells\nfunction prependBaseUrl(config, proxy, hasHostName) {\n  if(!proxy || hasHostName) {\n    return config;\n  }\n  const { origin } = new URL(window.location.href);\n  let baseUrl;\n  const jupyterLabConfigEl = document.getElementById('jupyter-config-data');\n\n  if (jupyterLabConfigEl) {\n    // This is jupyter lab\n    baseUrl = JSON.parse(jupyterLabConfigEl.textContent || '').baseUrl;\n  } else {\n    // This is jupyter notebook\n    baseUrl = document.getElementsByTagName('body')[0].getAttribute('data-base-url');\n  }\n  return {\n    ...config,\n    datasets: config.datasets.map(d => ({\n      ...d,\n      files: d.files.map(f => ({\n        ...f,\n        url: `${origin}${baseUrl}${f.url}`,\n      })),\n    })),\n  };\n}\n\nasync function render(view) {\n    const cssUid = view.model.get('uid');\n    const jsDevMode = view.model.get('js_dev_mode');\n    const jsPackageVersion = view.model.get('js_package_version');\n    const customJsUrl = view.model.get('custom_js_url');\n    const pluginEsmArr = view.model.get('plugin_esm');\n    const remountOnUidChange = view.model.get('remount_on_uid_change');\n    const storeUrls = view.model.get('store_urls');\n    const invokeTimeout = view.model.get('invoke_timeout');\n\n    const pkgName = (jsDevMode ? \"@vitessce/dev\" : \"vitessce\");\n\n    importMap.imports[\"vitessce\"] = (customJsUrl.length > 0\n        ? customJsUrl\n        : `https://unpkg.com/${pkgName}@${jsPackageVersion}`\n    );\n\n    const {\n        Vitessce,\n        PluginFileType,\n        PluginViewType,\n        PluginCoordinationType,\n        PluginJointFileType,\n        z,\n        useCoordination,\n        useGridItemSize,\n        // TODO: names and function signatures are subject to change for the following functions\n        // Reference: https://github.com/keller-mark/use-coordination/issues/37#issuecomment-1946226827\n        useComplexCoordination,\n        useMultiCoordinationScopesNonNull,\n        useMultiCoordinationScopesSecondaryNonNull,\n        useComplexCoordinationSecondary,\n        useCoordinationScopes,\n        useCoordinationScopesBy,\n    } = await importWithMap(\"vitessce\", importMap);\n\n    let pluginViewTypes = [];\n    let pluginCoordinationTypes = [];\n    let pluginFileTypes = [];\n    let pluginJointFileTypes = [];\n\n    const stores = Object.fromEntries(\n        storeUrls.map(storeUrl => ([\n            storeUrl,\n            {\n                async get(key) {\n                    const [data, buffers] = await view.experimental.invoke(\"_zarr_get\", [storeUrl, key], {\n                        signal: AbortSignal.timeout(invokeTimeout),\n                    });\n                    if (!data.success) return undefined;\n                    return buffers[0].buffer;\n                },\n            }\n        ])),\n    );\n\n    function invokePluginCommand(commandName, commandParams, commandBuffers) {\n        return view.experimental.invoke(\"_plugin_command\", [commandName, commandParams], {\n            signal: AbortSignal.timeout(invokeTimeout),\n            ...(commandBuffers ? { buffers: commandBuffers } : {}),\n        });\n    }\n\n    for (const pluginEsm of pluginEsmArr) {\n        try {\n            const pluginEsmUrl = URL.createObjectURL(new Blob([pluginEsm], { type: \"text/javascript\" }));\n            const pluginModule = (await import(pluginEsmUrl)).default;\n            URL.revokeObjectURL(pluginEsmUrl);\n\n            const pluginsObj = await pluginModule.createPlugins({\n                React,\n                PluginFileType,\n                PluginViewType,\n                PluginCoordinationType,\n                PluginJointFileType,\n                z,\n                invokeCommand: invokePluginCommand,\n                useCoordination,\n                useGridItemSize,\n                useComplexCoordination,\n                useMultiCoordinationScopesNonNull,\n                useMultiCoordinationScopesSecondaryNonNull,\n                useComplexCoordinationSecondary,\n                useCoordinationScopes,\n                useCoordinationScopesBy,\n            });\n            if(Array.isArray(pluginsObj.pluginViewTypes)) {\n                pluginViewTypes = [...pluginViewTypes, ...pluginsObj.pluginViewTypes];\n            }\n            if(Array.isArray(pluginsObj.pluginCoordinationTypes)) {\n                pluginCoordinationTypes = [...pluginCoordinationTypes, ...pluginsObj.pluginCoordinationTypes];\n            }\n            if(Array.isArray(pluginsObj.pluginFileTypes)) {\n                pluginFileTypes = [...pluginFileTypes, ...pluginsObj.pluginFileTypes];\n            }\n            if(Array.isArray(pluginsObj.pluginJointFileTypes)) {\n                pluginJointFileTypes = [...pluginJointFileTypes, ...pluginsObj.pluginJointFileTypes];\n            }\n        } catch(e) {\n            console.error(e);\n        }\n    }\n\n    function VitessceWidget(props) {\n        const { model } = props;\n\n        const [config, setConfig] = React.useState(prependBaseUrl(model.get('config'), model.get('proxy'), model.get('has_host_name')));\n        const [validateConfig, setValidateConfig] = React.useState(true);\n        const height = model.get('height');\n        const theme = model.get('theme') === 'auto' ? (prefersDark ? 'dark' : 'light') : model.get('theme');\n\n        const divRef = React.useRef();\n\n        React.useEffect(() => {\n            if(!divRef.current) {\n                return () => {};\n            }\n\n            function handleMouseEnter() {\n                const jpn = divRef.current.closest('.jp-Notebook');\n                if(jpn) {\n                    jpn.style.overflow = \"hidden\";\n                }\n            }\n            function handleMouseLeave(event) {\n                if(event.relatedTarget === null || (event.relatedTarget && event.relatedTarget.closest('.jp-Notebook')?.length)) return;\n                const jpn = divRef.current.closest('.jp-Notebook');\n                if(jpn) {\n                    jpn.style.overflow = \"auto\";\n                }\n            }\n            divRef.current.addEventListener(\"mouseenter\", handleMouseEnter);\n            divRef.current.addEventListener(\"mouseleave\", handleMouseLeave);\n\n            return () => {\n                if(divRef.current) {\n                    divRef.current.removeEventListener(\"mouseenter\", handleMouseEnter);\n                    divRef.current.removeEventListener(\"mouseleave\", handleMouseLeave);\n                }\n            };\n        }, [divRef]);\n\n        // Config changed on JS side (from within <Vitessce/>),\n        // send updated config to Python side.\n        const onConfigChange = React.useCallback((config) => {\n            model.set('config', config);\n            setValidateConfig(false);\n            model.save_changes();\n        }, [model]);\n\n        // Config changed on Python side,\n        // pass to <Vitessce/> component to it is updated on JS side.\n        React.useEffect(() => {\n            model.on('change:config', () => {\n                const newConfig = prependBaseUrl(model.get('config'), model.get('proxy'), model.get('has_host_name'));\n\n                // Force a re-render and re-validation by setting a new config.uid value.\n                // TODO: make this conditional on a parameter from Python.\n                //newConfig.uid = `random-${Math.random()}`;\n                //console.log('newConfig', newConfig);\n                setConfig(newConfig);\n            });\n        }, []);\n\n        const vitessceProps = {\n            height, theme, config, onConfigChange, validateConfig,\n            pluginViewTypes, pluginCoordinationTypes, pluginFileTypes, pluginJointFileTypes,\n            remountOnUidChange, stores,\n        };\n\n        return e('div', { ref: divRef, style: { height: height + 'px' } },\n            e(React.Suspense, { fallback: e('div', {}, 'Loading...') },\n                e(React.StrictMode, {},\n                    e(Vitessce, vitessceProps)\n                ),\n            ),\n        );\n    }\n\n    const root = createRoot(view.el);\n    root.render(e(VitessceWidget, { model: view.model }));\n\n    return () => {\n        // Re-enable scrolling.\n        const jpn = view.el.closest('.jp-Notebook');\n        if(jpn) {\n            jpn.style.overflow = \"auto\";\n        }\n\n        // Clean up React and DOM state.\n        root.unmount();\n        if(view._isFromDisplay) {\n            view.el.remove();\n        }\n    };\n}\nexport default { render };\n",
            "_model_module": "anywidget",
            "_model_module_version": "~0.9.*",
            "_model_name": "AnyModel",
            "_view_count": null,
            "_view_module": "anywidget",
            "_view_module_version": "~0.9.*",
            "_view_name": "AnyView",
            "config": {
              "version": "1.0.16",
              "name": "BioMedVis Challenge",
              "description": "",
              "datasets": [
                {
                  "uid": "bv",
                  "name": "Blood Vessel",
                  "files": [
                    {
                      "fileType": "image.ome-zarr",
                      "url": "https://lsp-public-data.s3.amazonaws.com/yapp-2023-3d-melanoma/Dataset1-LSP13626-melanoma-in-situ/0"
                    }
                  ]
                }
              ],
              "coordinationSpace": {
                "metaCoordinationScopes": {
                  "init_bv_image_0": {
                    "spatialImageLayer": "init_bv_image_0",
                    "spatialTargetZ": "init_bv_image_0",
                    "spatialTargetT": "init_bv_image_0",
                    "imageLayer": [
                      "init_bv_image_0"
                    ],
                    "spatialZoom": "init_bv_image_0",
                    "spatialTargetX": "init_bv_image_0",
                    "spatialTargetY": "init_bv_image_0",
                    "spatialRenderingMode": "init_bv_image_0"
                  }
                },
                "metaCoordinationScopesBy": {
                  "init_bv_image_0": {
                    "imageLayer": {
                      "spatialTargetResolution": {
                        "init_bv_image_0": "init_bv_image_0"
                      },
                      "spatialLayerOpacity": {
                        "init_bv_image_0": "init_bv_image_0"
                      },
                      "spatialLayerVisible": {
                        "init_bv_image_0": "init_bv_image_0"
                      },
                      "photometricInterpretation": {
                        "init_bv_image_0": "init_bv_image_0"
                      },
                      "imageChannel": {
                        "init_bv_image_0": [
                          "init_bv_image_0",
                          "init_bv_image_1",
                          "init_bv_image_2",
                          "init_bv_image_3",
                          "init_bv_image_4",
                          "init_bv_image_5"
                        ]
                      },
                      "fileUid": {
                        "init_bv_image_0": "init_bv_image_0"
                      },
                      "volumetricRenderingAlgorithm": {
                        "init_bv_image_0": "init_bv_image_0"
                      }
                    },
                    "imageChannel": {
                      "spatialTargetC": {
                        "init_bv_image_0": "init_bv_image_0",
                        "init_bv_image_1": "init_bv_image_1",
                        "init_bv_image_2": "init_bv_image_2",
                        "init_bv_image_3": "init_bv_image_3",
                        "init_bv_image_4": "init_bv_image_4",
                        "init_bv_image_5": "init_bv_image_5"
                      },
                      "spatialChannelColor": {
                        "init_bv_image_0": "init_bv_image_0",
                        "init_bv_image_1": "init_bv_image_1",
                        "init_bv_image_2": "init_bv_image_2",
                        "init_bv_image_3": "init_bv_image_3",
                        "init_bv_image_4": "init_bv_image_4",
                        "init_bv_image_5": "init_bv_image_5"
                      },
                      "spatialChannelVisible": {
                        "init_bv_image_0": "init_bv_image_0",
                        "init_bv_image_1": "init_bv_image_1",
                        "init_bv_image_2": "init_bv_image_2",
                        "init_bv_image_3": "init_bv_image_3",
                        "init_bv_image_4": "init_bv_image_4",
                        "init_bv_image_5": "init_bv_image_5"
                      },
                      "spatialChannelOpacity": {
                        "init_bv_image_0": "init_bv_image_0",
                        "init_bv_image_1": "init_bv_image_1",
                        "init_bv_image_2": "init_bv_image_2",
                        "init_bv_image_3": "init_bv_image_3",
                        "init_bv_image_4": "init_bv_image_4",
                        "init_bv_image_5": "init_bv_image_5"
                      },
                      "spatialChannelWindow": {
                        "init_bv_image_0": "init_bv_image_0",
                        "init_bv_image_1": "init_bv_image_1",
                        "init_bv_image_2": "init_bv_image_2",
                        "init_bv_image_3": "init_bv_image_3",
                        "init_bv_image_4": "init_bv_image_4",
                        "init_bv_image_5": "init_bv_image_5"
                      }
                    }
                  }
                },
                "dataset": {
                  "init_bv_image_0": "init_bv_image_0",
                  "A": "bv"
                },
                "spatialZoom": {
                  "init_bv_image_0": -3.064772924455332,
                  "A": null
                },
                "spatialTargetX": {
                  "init_bv_image_0": 5800.449601795684,
                  "A": null
                },
                "spatialTargetY": {
                  "init_bv_image_0": 3730.945814846987,
                  "A": null
                },
                "spatialTargetZ": {
                  "init_bv_image_0": -1.1702506092712933e-11,
                  "A": null,
                  "B": null
                },
                "imageLayer": {
                  "init_bv_image_0": "__dummy__",
                  "A": null
                },
                "imageChannel": {
                  "init_bv_image_0": "__dummy__",
                  "init_bv_image_1": "__dummy__",
                  "init_bv_image_2": "__dummy__",
                  "init_bv_image_3": "__dummy__",
                  "init_bv_image_4": "__dummy__",
                  "init_bv_image_5": "__dummy__",
                  "A": null
                },
                "spatialTargetC": {
                  "init_bv_image_0": 9,
                  "init_bv_image_1": 19,
                  "init_bv_image_2": 69,
                  "init_bv_image_3": 21,
                  "init_bv_image_4": 29,
                  "init_bv_image_5": 3,
                  "A": null
                },
                "spatialTargetT": {
                  "init_bv_image_0": 0,
                  "A": null
                },
                "spatialLayerVisible": {
                  "init_bv_image_0": true,
                  "A": true
                },
                "spatialLayerOpacity": {
                  "init_bv_image_0": 1,
                  "A": 1
                },
                "spatialChannelVisible": {
                  "init_bv_image_0": true,
                  "init_bv_image_1": true,
                  "init_bv_image_2": true,
                  "init_bv_image_3": true,
                  "init_bv_image_4": true,
                  "init_bv_image_5": true,
                  "A": true
                },
                "spatialChannelOpacity": {
                  "init_bv_image_0": 1,
                  "init_bv_image_1": 1,
                  "init_bv_image_2": 1,
                  "init_bv_image_3": 1,
                  "init_bv_image_4": 1,
                  "init_bv_image_5": 1,
                  "A": 1
                },
                "spatialChannelWindow": {
                  "init_bv_image_0": [
                    0,
                    9486
                  ],
                  "init_bv_image_1": [
                    888,
                    6882
                  ],
                  "init_bv_image_2": [
                    6,
                    34
                  ],
                  "init_bv_image_3": [
                    0,
                    6552
                  ],
                  "init_bv_image_4": [
                    475,
                    2983
                  ],
                  "init_bv_image_5": [
                    1287,
                    14825
                  ],
                  "A": null
                },
                "spatialChannelColor": {
                  "init_bv_image_0": [
                    255,
                    125,
                    0
                  ],
                  "init_bv_image_1": [
                    0,
                    0,
                    255
                  ],
                  "init_bv_image_2": [
                    255,
                    255,
                    0
                  ],
                  "init_bv_image_3": [
                    255,
                    0,
                    0
                  ],
                  "init_bv_image_4": [
                    255,
                    0,
                    255
                  ],
                  "init_bv_image_5": [
                    0,
                    255,
                    0
                  ],
                  "A": [
                    255,
                    255,
                    255
                  ]
                },
                "photometricInterpretation": {
                  "init_bv_image_0": "BlackIsZero",
                  "A": null
                },
                "spatialRenderingMode": {
                  "init_bv_image_0": "3D",
                  "A": "2D"
                },
                "spatialTargetResolution": {
                  "init_bv_image_0": 3,
                  "A": 0
                },
                "obsType": {
                  "A": "cell"
                },
                "featureType": {
                  "A": "gene"
                },
                "featureValueType": {
                  "A": "expression"
                },
                "obsLabelsType": {
                  "A": null
                },
                "spatialRotation": {
                  "A": 0
                },
                "spatialRotationX": {
                  "A": 0
                },
                "spatialRotationY": {
                  "A": 0
                },
                "spatialRotationZ": {
                  "A": 0
                },
                "spatialRotationOrbit": {
                  "A": 0
                },
                "spatialOrbitAxis": {
                  "A": "Y"
                },
                "spatialAxisFixed": {
                  "A": false
                },
                "spatialNeighborhoodLayer": {
                  "A": null
                },
                "spatialPointLayer": {
                  "A": null
                },
                "obsFilter": {
                  "A": null
                },
                "obsHighlight": {
                  "A": null
                },
                "obsSetSelection": {
                  "A": null
                },
                "obsSetHighlight": {
                  "A": null
                },
                "obsSetColor": {
                  "A": null
                },
                "obsColorEncoding": {
                  "A": "cellSetSelection"
                },
                "featureHighlight": {
                  "A": null
                },
                "featureSelection": {
                  "A": null
                },
                "tooltipsVisible": {
                  "A": true
                },
                "featureValueColormap": {
                  "A": "plasma"
                },
                "featureValueColormapRange": {
                  "A": [
                    0,
                    1
                  ]
                },
                "additionalObsSets": {
                  "A": null
                },
                "moleculeHighlight": {
                  "A": null
                },
                "fileUid": {
                  "init_bv_image_0": null,
                  "A": null
                },
                "segmentationLayer": {
                  "A": null
                },
                "segmentationChannel": {
                  "A": null
                },
                "spatialLayerColormap": {
                  "A": null
                },
                "spatialLayerTransparentColor": {
                  "A": null
                },
                "spatialLayerModelMatrix": {
                  "A": null
                },
                "spatialSegmentationFilled": {
                  "A": true
                },
                "spatialSegmentationStrokeWidth": {
                  "A": 1
                },
                "volumetricRenderingAlgorithm": {
                  "init_bv_image_0": "maximumIntensityProjection",
                  "A": "additive"
                },
                "spatialSliceX": {
                  "A": null
                },
                "spatialSliceY": {
                  "A": null
                },
                "spatialSliceZ": {
                  "A": null
                },
                "spotLayer": {
                  "A": null
                },
                "pointLayer": {
                  "A": null
                },
                "spatialSpotRadius": {
                  "A": 25
                },
                "spatialSpotFilled": {
                  "A": true
                },
                "spatialSpotStrokeWidth": {
                  "A": 1
                },
                "spatialLayerColor": {
                  "A": null
                },
                "pixelHighlight": {
                  "A": null
                },
                "tooltipCrosshairsVisible": {
                  "A": true
                },
                "legendVisible": {
                  "A": true
                },
                "spatialChannelLabelsVisible": {
                  "A": true
                },
                "spatialChannelLabelsOrientation": {
                  "A": "vertical"
                },
                "spatialChannelLabelSize": {
                  "A": 14
                },
                "spatialImageLayer": {
                  "init_bv_image_0": [
                    {
                      "type": "raster",
                      "index": 0,
                      "visible": true,
                      "colormap": null,
                      "opacity": 1,
                      "domainType": "Min/Max",
                      "transparentColor": null,
                      "renderingMode": "Additive",
                      "use3d": false,
                      "channels": [
                        {
                          "selection": {
                            "z": 97,
                            "t": 0,
                            "c": 0
                          },
                          "color": [
                            255,
                            0,
                            0
                          ],
                          "visible": true,
                          "slider": [
                            0,
                            34199
                          ]
                        },
                        {
                          "selection": {
                            "z": 97,
                            "t": 0,
                            "c": 1
                          },
                          "color": [
                            0,
                            255,
                            0
                          ],
                          "visible": true,
                          "slider": [
                            0,
                            39023
                          ]
                        },
                        {
                          "selection": {
                            "z": 97,
                            "t": 0,
                            "c": 2
                          },
                          "color": [
                            255,
                            151,
                            0
                          ],
                          "visible": true,
                          "slider": [
                            0,
                            34477
                          ]
                        },
                        {
                          "selection": {
                            "z": 97,
                            "t": 0,
                            "c": 3
                          },
                          "color": [
                            0,
                            158,
                            0
                          ],
                          "visible": true,
                          "slider": [
                            0,
                            35333
                          ]
                        }
                      ],
                      "modelMatrix": [
                        0.13999999999999999,
                        0,
                        0,
                        0,
                        0,
                        0.14,
                        0,
                        0,
                        0,
                        0,
                        0.28,
                        0,
                        0,
                        0,
                        0,
                        1
                      ]
                    }
                  ]
                }
              },
              "layout": [
                {
                  "uid": "A",
                  "component": "spatialBeta",
                  "x": 0,
                  "y": 0,
                  "w": 6,
                  "h": 12,
                  "coordinationScopes": {
                    "dataset": "A",
                    "metaCoordinationScopes": [
                      "init_bv_image_0",
                      "init_bv_image_0"
                    ],
                    "metaCoordinationScopesBy": [
                      "init_bv_image_0",
                      "init_bv_image_0"
                    ],
                    "obsType": "A",
                    "featureType": "A",
                    "featureValueType": "A",
                    "obsLabelsType": "A",
                    "spatialZoom": "A",
                    "spatialRotation": "A",
                    "spatialTargetX": "A",
                    "spatialTargetY": "A",
                    "spatialTargetZ": "A",
                    "spatialRotationX": "A",
                    "spatialRotationY": "A",
                    "spatialRotationZ": "A",
                    "spatialRotationOrbit": "A",
                    "spatialOrbitAxis": "A",
                    "spatialAxisFixed": "A",
                    "spatialNeighborhoodLayer": "A",
                    "spatialPointLayer": "A",
                    "obsFilter": "A",
                    "obsHighlight": "A",
                    "obsSetSelection": "A",
                    "obsSetHighlight": "A",
                    "obsSetColor": "A",
                    "obsColorEncoding": "A",
                    "featureHighlight": "A",
                    "featureSelection": "A",
                    "tooltipsVisible": "A",
                    "featureValueColormap": "A",
                    "featureValueColormapRange": "A",
                    "additionalObsSets": "A",
                    "moleculeHighlight": "A",
                    "fileUid": "A",
                    "imageLayer": "A",
                    "imageChannel": "A",
                    "segmentationLayer": "A",
                    "segmentationChannel": "A",
                    "spatialTargetC": "A",
                    "spatialTargetT": "A",
                    "spatialLayerVisible": "A",
                    "spatialLayerOpacity": "A",
                    "spatialLayerColormap": "A",
                    "spatialLayerTransparentColor": "A",
                    "spatialLayerModelMatrix": "A",
                    "spatialChannelVisible": "A",
                    "spatialChannelOpacity": "A",
                    "spatialChannelWindow": "A",
                    "spatialChannelColor": "A",
                    "spatialSegmentationFilled": "A",
                    "spatialSegmentationStrokeWidth": "A",
                    "spatialRenderingMode": "A",
                    "volumetricRenderingAlgorithm": "A",
                    "spatialTargetResolution": "A",
                    "spatialSliceX": "A",
                    "spatialSliceY": "A",
                    "spatialSliceZ": "A",
                    "spotLayer": "A",
                    "pointLayer": "A",
                    "spatialSpotRadius": "A",
                    "spatialSpotFilled": "A",
                    "spatialSpotStrokeWidth": "A",
                    "spatialLayerColor": "A",
                    "pixelHighlight": "A",
                    "tooltipCrosshairsVisible": "A",
                    "legendVisible": "A",
                    "spatialChannelLabelsVisible": "A",
                    "spatialChannelLabelsOrientation": "A",
                    "spatialChannelLabelSize": "A"
                  }
                },
                {
                  "uid": "B",
                  "component": "layerControllerBeta",
                  "x": 6,
                  "y": 0,
                  "w": 6,
                  "h": 12,
                  "coordinationScopes": {
                    "dataset": "A",
                    "metaCoordinationScopes": [
                      "init_bv_image_0",
                      "init_bv_image_0"
                    ],
                    "metaCoordinationScopesBy": [
                      "init_bv_image_0",
                      "init_bv_image_0"
                    ],
                    "obsType": "A",
                    "featureType": "A",
                    "featureValueType": "A",
                    "spatialZoom": "A",
                    "spatialTargetX": "A",
                    "spatialTargetY": "A",
                    "spatialTargetZ": "A",
                    "spatialRotationX": "A",
                    "spatialRotationY": "A",
                    "spatialRotationZ": "A",
                    "spatialRotationOrbit": "A",
                    "spatialOrbitAxis": "A",
                    "spatialNeighborhoodLayer": "A",
                    "spatialPointLayer": "A",
                    "obsColorEncoding": "A",
                    "featureSelection": "A",
                    "tooltipsVisible": "A",
                    "featureValueColormap": "A",
                    "featureValueColormapRange": "A",
                    "fileUid": "A",
                    "imageLayer": "A",
                    "imageChannel": "A",
                    "segmentationLayer": "A",
                    "segmentationChannel": "A",
                    "spatialTargetC": "A",
                    "spatialTargetT": "A",
                    "spatialLayerVisible": "A",
                    "spatialLayerOpacity": "A",
                    "spatialLayerColormap": "A",
                    "spatialLayerTransparentColor": "A",
                    "spatialLayerModelMatrix": "A",
                    "spatialChannelVisible": "A",
                    "spatialChannelOpacity": "A",
                    "spatialChannelWindow": "A",
                    "spatialChannelColor": "A",
                    "spatialSegmentationFilled": "A",
                    "spatialSegmentationStrokeWidth": "A",
                    "photometricInterpretation": "A",
                    "spatialRenderingMode": "A",
                    "volumetricRenderingAlgorithm": "A",
                    "spatialTargetResolution": "A",
                    "spatialSliceX": "A",
                    "spatialSliceY": "A",
                    "spatialSliceZ": "A",
                    "spotLayer": "A",
                    "pointLayer": "A",
                    "spatialSpotRadius": "A",
                    "spatialSpotFilled": "A",
                    "spatialSpotStrokeWidth": "A",
                    "spatialLayerColor": "A",
                    "tooltipCrosshairsVisible": "A",
                    "legendVisible": "A",
                    "spatialChannelLabelsVisible": "A",
                    "spatialChannelLabelsOrientation": "A",
                    "spatialChannelLabelSize": "A"
                  }
                }
              ],
              "initStrategy": "auto",
              "uid": "A"
            },
            "custom_js_url": "",
            "has_host_name": false,
            "height": 600,
            "invoke_timeout": 30000,
            "js_dev_mode": false,
            "js_package_version": "3.4.5",
            "layout": "IPY_MODEL_ee6efb215d3a430da9fee2394d04c677",
            "plugin_esm": [],
            "proxy": false,
            "remount_on_uid_change": false,
            "store_urls": [],
            "theme": "auto",
            "uid": "c638"
          }
        },
        "ee6efb215d3a430da9fee2394d04c677": {
          "model_module": "@jupyter-widgets/base",
          "model_name": "LayoutModel",
          "model_module_version": "1.2.0",
          "state": {
            "_model_module": "@jupyter-widgets/base",
            "_model_module_version": "1.2.0",
            "_model_name": "LayoutModel",
            "_view_count": null,
            "_view_module": "@jupyter-widgets/base",
            "_view_module_version": "1.2.0",
            "_view_name": "LayoutView",
            "align_content": null,
            "align_items": null,
            "align_self": null,
            "border": null,
            "bottom": null,
            "display": null,
            "flex": null,
            "flex_flow": null,
            "grid_area": null,
            "grid_auto_columns": null,
            "grid_auto_flow": null,
            "grid_auto_rows": null,
            "grid_column": null,
            "grid_gap": null,
            "grid_row": null,
            "grid_template_areas": null,
            "grid_template_columns": null,
            "grid_template_rows": null,
            "height": null,
            "justify_content": null,
            "justify_items": null,
            "left": null,
            "margin": null,
            "max_height": null,
            "max_width": null,
            "min_height": null,
            "min_width": null,
            "object_fit": null,
            "object_position": null,
            "order": null,
            "overflow": null,
            "overflow_x": null,
            "overflow_y": null,
            "padding": null,
            "right": null,
            "top": null,
            "visibility": null,
            "width": null
          }
        }
      }
    }
  },
  "nbformat": 4,
  "nbformat_minor": 0
}